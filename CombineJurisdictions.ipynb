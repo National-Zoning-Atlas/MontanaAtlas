{
 "cells": [
  {
   "cell_type": "code",
   "execution_count": 1,
   "id": "dc235dfe",
   "metadata": {},
   "outputs": [],
   "source": [
    "import pandas as pd\n",
    "import geopandas as gpd\n",
    "import os"
   ]
  },
  {
   "cell_type": "markdown",
   "id": "1a09b62d",
   "metadata": {},
   "source": [
    "### Define helper functions"
   ]
  },
  {
   "cell_type": "code",
   "execution_count": 2,
   "id": "2818b12b",
   "metadata": {},
   "outputs": [],
   "source": [
    "# Function to convert sq m to acres\n",
    "m2acres = lambda x: x * 0.00024711\n",
    "\n",
    "# Function to generate zone ID from state,\n",
    "# jurisdiction name & abbreviated district name\n",
    "def create_id(s, j, ad):\n",
    "    s = str(s).upper()\n",
    "    j = str(j).split('-')[0].strip().upper().split('/')[0]\n",
    "    ad = str(ad).replace('-', '').replace(' ', '').upper()\n",
    "    return f'{s}--{j}--{ad}'"
   ]
  },
  {
   "cell_type": "markdown",
   "id": "d1f64e13",
   "metadata": {},
   "source": [
    "### Define a function that reads and cleans up every GIS file"
   ]
  },
  {
   "cell_type": "code",
   "execution_count": 168,
   "id": "e4163a92",
   "metadata": {},
   "outputs": [],
   "source": [
    "def read_zoning_file(filepath):\n",
    "    try:\n",
    "        # Read GIS file into dataframe\n",
    "        \n",
    "        gdf = (gpd\n",
    "               .read_file(filepath)\n",
    "               .filter(['State', 'Jurisdiction', 'AbbreviatedDistrict', 'geometry'])\n",
    "               .dropna(subset=['geometry']) # remove null geometries\n",
    "               .to_crs('EPSG:4326') # set projection to WGS 84 (lat/lon)\n",
    "              )\n",
    "        gdf.head()\n",
    "        \n",
    "        # Rename districts with no names to \"Not Zoned\"\n",
    "        gdf.AbbreviatedDistrict = gdf.AbbreviatedDistrict.fillna('Not Zoned')\n",
    "        \n",
    "        # Create an ID column that combines jurisdiction and zoning name\n",
    "        gdf['id'] = gdf.apply(\n",
    "            lambda r: create_id(r.State, r.Jurisdiction, r.AbbreviatedDistrict), axis=1\n",
    "        )\n",
    "\n",
    "        # Calculate area (in acres) for each geometry\n",
    "        gdf['ZoneAcres'] = (gdf\n",
    "                            .to_crs('EPSG:6933') # reproject to equal area\n",
    "                            .geometry.area\n",
    "                            .apply(m2acres)\n",
    "                           )\n",
    "\n",
    "        # Calculate total area by zone\n",
    "        total_area_by_zone = (gdf\n",
    "                              .groupby('id')\n",
    "                              ['ZoneAcres']\n",
    "                              .sum()\n",
    "                             )\n",
    "\n",
    "        # # Combine (dissolve) geometries by zone\n",
    "        gdf = gdf.dissolve(by='id')\n",
    "        gdf.ZoneAcres = total_area_by_zone # assign new total areas\n",
    "\n",
    "        # Move `id` from index to column\n",
    "        gdf = gdf.reset_index()\n",
    "\n",
    "        return gdf\n",
    "               \n",
    "    except Exception as e:\n",
    "        print(f\"Error when reading {filepath}: {e}\")"
   ]
  },
  {
   "cell_type": "markdown",
   "id": "7b25662b",
   "metadata": {},
   "source": [
    "### Read all GIS files using the function above"
   ]
  },
  {
   "cell_type": "code",
   "execution_count": 177,
   "id": "9f59a39d",
   "metadata": {},
   "outputs": [
    {
     "name": "stdout",
     "output_type": "stream",
     "text": [
      "Error when reading geojson/FederalLandsDissolve.geojson: 'GeoDataFrame' object has no attribute 'AbbreviatedDistrict'\n",
      "Error when reading geojson/USAFederalLands_Montana.geojson: 'GeoDataFrame' object has no attribute 'AbbreviatedDistrict'\n"
     ]
    }
   ],
   "source": [
    "# Folder with all GIS files\n",
    "zoning_folder = 'geojson'\n",
    "\n",
    "# Read the folder to get all filenames (ignore hidden files)\n",
    "zoning_files = [x for x in os.listdir(zoning_folder) if x[-8:] == '.geojson' ]\n",
    "\n",
    "# Read all zones into a single pandas dataframe\n",
    "gdfs = [ read_zoning_file(f\"{zoning_folder}/{filename}\")\n",
    "         for filename in zoning_files ]\n",
    "\n",
    "combined_df = pd.concat( gdfs ).reset_index(drop=True)\n",
    "\n",
    "# combined_df.head()"
   ]
  },
  {
   "cell_type": "code",
   "execution_count": 93,
   "id": "1ec30b47",
   "metadata": {},
   "outputs": [],
   "source": [
    "counts = combined_df.groupby('Jurisdiction').size()\n",
    "counts.to_csv('counts.csv')\n"
   ]
  },
  {
   "cell_type": "code",
   "execution_count": null,
   "id": "407c8790",
   "metadata": {},
   "outputs": [],
   "source": [
    "# Set the maximum number of rows and columns to display\n",
    "pd.options.display.max_rows = None\n",
    "pd.options.display.max_columns = None\n",
    "\n",
    "# Display the full DataFrame\n",
    "print(counts)\n"
   ]
  },
  {
   "cell_type": "markdown",
   "id": "efe535d0",
   "metadata": {},
   "source": [
    "### Derive \"zoneable\" area for each jurisdiction by subtracting federal/state land"
   ]
  },
  {
   "cell_type": "code",
   "execution_count": 178,
   "id": "94ad2871",
   "metadata": {},
   "outputs": [],
   "source": [
    "# Read federal-land GeoJSON\n",
    "fed_land = gpd.read_file(\n",
    "    r'geojson\\USAFederalLands_Montana.geojson'\n",
    "    ).to_crs(epsg=4326)\n",
    "\n",
    "# Intersect with all zones\n",
    "fed_land_ = gpd.overlay(\n",
    "    combined_df,\n",
    "    fed_land,\n",
    "    how='intersection'\n",
    ")\n",
    "\n",
    "# Calculate acres\n",
    "fed_land_['FedAcres'] = (fed_land_\n",
    "    .to_crs(epsg=6933)\n",
    "    .geometry.area\n",
    "    .apply(m2acres)\n",
    ")\n",
    "\n",
    "# Account for repeating zone IDs\n",
    "fed_land_ = (fed_land_\n",
    "    .dissolve(by='id', aggfunc={'FedAcres': 'sum'})\n",
    "    .reset_index()\n",
    "    .filter(['id', 'FedAcres'])\n",
    ")\n",
    "\n",
    "# Add federal/state area per zoning district\n",
    "combined_df = combined_df.merge(\n",
    "    fed_land_,\n",
    "    on='id',\n",
    "    how='left'\n",
    ")\n",
    "\n",
    "# Calculate municipal (=zoneable) acres\n",
    "combined_df.FedAcres = combined_df.FedAcres.fillna(0)\n",
    "combined_df['MunicipalAcres'] = combined_df.ZoneAcres -\\\n",
    "    combined_df.FedAcres"
   ]
  },
  {
   "cell_type": "markdown",
   "id": "667b5fa8",
   "metadata": {},
   "source": [
    "### Read zoning data from the spreadsheet"
   ]
  },
  {
   "cell_type": "code",
   "execution_count": 171,
   "id": "440a583c",
   "metadata": {},
   "outputs": [],
   "source": [
    "spreadsheet_path = r'Zoning Atlas Montana.csv'\n",
    "\n",
    "zoning = pd.read_csv(spreadsheet_path)\\\n",
    "    .loc[ :, 'Jurisdiction': 'Tooltip Notes' ]\n",
    "\n",
    "zoning['Tooltip Notes'] = zoning['Tooltip Notes'].fillna('')\n",
    "\n",
    "# Remove spaces from column names\n",
    "zoning.columns = [x.strip() for x in zoning.columns.tolist()]\n",
    "\n",
    "# Trim all strings in the dataframe\n",
    "str_columns = zoning.select_dtypes(['object'])\n",
    "zoning[ str_columns.columns ] = str_columns.apply(lambda x: x.str.strip())\n",
    "\n",
    "# Create id column (to perform linking later)\n",
    "zoning['id'] = zoning.apply(\n",
    "    lambda r: create_id(r.State, r.Jurisdiction, r.AbbreviatedDistrict),\n",
    "    axis=1\n",
    ")"
   ]
  },
  {
   "cell_type": "markdown",
   "id": "09a2121d",
   "metadata": {},
   "source": [
    "### Define a function to convert acre size to a letter category"
   ]
  },
  {
   "cell_type": "code",
   "execution_count": 163,
   "id": "4ec9b4c4",
   "metadata": {},
   "outputs": [],
   "source": [
    "# Converts min lot size into a predefined range\n",
    "\n",
    "def min_lot_size(x):\n",
    "    if x != x or x == '': # null\n",
    "        return 'A'\n",
    "\n",
    "    x = float(x)\n",
    "\n",
    "    if x < 0.01:\n",
    "        return 'A'\n",
    "    if x >= 0.01 and x <= 0.0625:\n",
    "        return 'B'\n",
    "    if x > 0.0625 and x <= 0.125:\n",
    "        return 'C'\n",
    "    if x > 0.125 and x <= 0.25:\n",
    "        return 'D'\n",
    "    if x > 0.25 and x <= 0.5:\n",
    "        return 'E'\n",
    "    if x > 0.5:\n",
    "        return 'F'\n"
   ]
  },
  {
   "cell_type": "markdown",
   "id": "887d6336",
   "metadata": {},
   "source": [
    "### Derive new measures in the zoning data\n",
    "This includes \"minimum lot size requirement\" (true/false), \"minimum unit size requirement\" present (true/false), etc."
   ]
  },
  {
   "cell_type": "code",
   "execution_count": 172,
   "id": "4aa44f50",
   "metadata": {},
   "outputs": [],
   "source": [
    "zoning['AduMaxSizeLimit'] = ~zoning[r'ADU Max. Size (% of MAIN UNIT)'].isna() | ~zoning['ADU Max. Size (SF)'].isna()\n",
    "\n",
    "# Min Unit Size requirement: transform columns K, O, T, AC into true/false\n",
    "zoning['1MUS'] = ~zoning['1-Family Min. Unit Size (SF)'].isna()\n",
    "zoning['2MUS'] = ~zoning['2-Family Min. Unit Size (SF)'].isna()\n",
    "zoning['3MUS'] = ~zoning['3-Family Min. Unit Size (SF)'].isna()\n",
    "zoning['4MUS'] = ~zoning['4+-Family Min. Unit Size (SF)'].isna()\n",
    "\n",
    "# Any minimum unit size is set? (for tooltip)\n",
    "zoning['MUS'] = zoning['1MUS'] | zoning['2MUS'] | zoning['3MUS'] | zoning['4MUS']\n",
    "\n",
    "# Min Lot Size\n",
    "zoning['1MLS'] = zoning['1-Family Min. Lot (ACRES)'].apply(min_lot_size)\n",
    "zoning['2MLS'] = zoning['2-Family Min. Lot (ACRES)'].apply(min_lot_size)\n",
    "zoning['3MLS'] = zoning['3-Family Min. Lot (ACRES)'].apply(min_lot_size)\n",
    "zoning['4MLS'] = zoning['4+-Family Min. Lot (ACRES)'].apply(min_lot_size)\n",
    "\n",
    "# Elderly housing\n",
    "# 1F Elderly Only —> value from BM column\n",
    "# 2F Elderly Only —> value from BM column\n",
    "# 3F Elderly Only —> Yes if BM = Yes, otherwise value from Y column\n",
    "# 4F Elderly Only —> Yes if BM = Yes, otherwise value from AI column\n",
    "def is_elderly_only(row, col):\n",
    "    if row['Elderly Housing District'] == 'Yes':\n",
    "        return 'Yes'\n",
    "    return row[col]\n",
    "    \n",
    "zoning['1E'] = zoning['Elderly Housing District']\n",
    "zoning['2E'] = zoning['Elderly Housing District']\n",
    "zoning['3E'] = zoning.apply(lambda row: is_elderly_only(row, '3-Family Elderly Housing Only'), axis=1).fillna('No')\n",
    "zoning['4E'] = zoning.apply(lambda row: is_elderly_only(row, '4+-Family Elderly Housing Only'), axis=1).fillna('No')\n",
    "\n",
    "# Create ADU Elderly only\n",
    "zoning['AEld'] = zoning['ADU Elderly Housing Only'].fillna('No')"
   ]
  },
  {
   "cell_type": "code",
   "execution_count": 71,
   "id": "cdcad589",
   "metadata": {},
   "outputs": [
    {
     "data": {
      "text/plain": [
       "Index(['Jurisdiction', 'County', 'AbbreviatedDistrict', 'State',\n",
       "       'Full District or Sub-District Name', 'District Mapped',\n",
       "       'District Mapped But Extinct', 'Overlay', 'Type of Zoning District',\n",
       "       'Affordable Housing District',\n",
       "       ...\n",
       "       'MUS', '1MLS', '2MLS', '3MLS', '4MLS', '1E', '2E', '3E', '4E', 'AEld'],\n",
       "      dtype='object', length=124)"
      ]
     },
     "execution_count": 71,
     "metadata": {},
     "output_type": "execute_result"
    }
   ],
   "source": [
    "zoning.columns"
   ]
  },
  {
   "cell_type": "markdown",
   "id": "fcab4243",
   "metadata": {},
   "source": [
    "### Generate text for minimum parking requirements\n",
    "This was needed for Connecticut Zoning Atals and may be optional for other atlases."
   ]
  },
  {
   "cell_type": "code",
   "execution_count": 173,
   "id": "1fc34d19",
   "metadata": {},
   "outputs": [],
   "source": [
    "# Minimum parking required anywhere? for tooltip\n",
    "\n",
    "def parking_text(row):\n",
    "    one = row['1-Family Min. # Parking Spaces']\n",
    "    two = row['2-Family Min. # Parking Spaces Per 2+ BR']\n",
    "    two_ = row['2-Family Min. # Parking Spaces Per Studio or 1BR']\n",
    "    three = row['3-Family Min. # Parking Spaces Per 2+ BR']\n",
    "    three_ = row['3-Family Min. # Parking Spaces Per Studio or 1BR']\n",
    "    four = row['4+-Family Min. # Parking Spaces Per Studio or 1BR']\n",
    "    four_ = row['4+-Family Min. # Parking Spaces Per 2+ BR']\n",
    "    \n",
    "    text = []\n",
    "    if one == one:\n",
    "        text.append(str(one) + ' for 1-family')\n",
    "    if two == two:\n",
    "        text.append(str(two) + ' for 2-family (total)')\n",
    "    if two_ == two_:\n",
    "        text.append(str(two_) + ' for 2-family (per studio/1br)')\n",
    "    if three == three:\n",
    "        text.append(str(three) + ' for 3-family (total)')\n",
    "    if three_ == three_:\n",
    "        text.append(str(three_) + ' for 3-family (per studio/1br)')\n",
    "    if four == four:\n",
    "        text.append(str(four) + ' for 4+ family (total)')\n",
    "    if four_ == four_:\n",
    "        text.append(str(four_) + ' for 2+ family (per studio/1br)')\n",
    "\n",
    "    return '; '.join(text)\n",
    "\n",
    "zoning['PK'] = zoning.apply(parking_text, axis=1)"
   ]
  },
  {
   "cell_type": "markdown",
   "id": "3b138b17",
   "metadata": {},
   "source": [
    "### Combine GIS and zoning data on the `id` column"
   ]
  },
  {
   "cell_type": "code",
   "execution_count": 179,
   "id": "7896edb9",
   "metadata": {},
   "outputs": [],
   "source": [
    "final = combined_df.merge(\n",
    "    zoning,\n",
    "    on='id',\n",
    "    how='left',\n",
    "    suffixes=('', '_from_zoning')\n",
    ")\n",
    "\n",
    "# zoning.drop(columns=['id'], inplace=True)"
   ]
  },
  {
   "cell_type": "code",
   "execution_count": 182,
   "id": "023e8d61",
   "metadata": {},
   "outputs": [
    {
     "name": "stdout",
     "output_type": "stream",
     "text": [
      "[('id', dtype('O')), ('geometry', <geopandas.array.GeometryDtype object at 0x0000018296F4EBC0>), ('State', dtype('O')), ('Jurisdiction', dtype('O')), ('AbbreviatedDistrict', dtype('O')), ('ZoneAcres', dtype('float64')), ('FedAcres', dtype('float64')), ('MunicipalAcres', dtype('float64')), ('Jurisdiction_from_zoning', dtype('O')), ('County', dtype('O')), ('AbbreviatedDistrict_from_zoning', dtype('O')), ('State_from_zoning', dtype('O')), ('Full District or Sub-District Name', dtype('O')), ('District Mapped', dtype('O')), ('District Mapped But Extinct', dtype('O')), ('Overlay', dtype('O')), ('Type of Zoning District', dtype('O')), ('Affordable Housing District', dtype('O')), ('Elderly Housing District', dtype('O')), ('1-Family Treatment', dtype('O')), ('2-Family Treatment', dtype('O')), ('3-Family Treatment', dtype('O')), ('4+-Family Treatment', dtype('O')), ('1-Family Min. Lot (ACRES)', dtype('float64')), ('1-Family Front Setback (# of feet)', dtype('float64')), ('1-Family Side Setback (# of feet)', dtype('float64')), ('1-Family Rear Setback (# of feet)', dtype('float64')), ('1-Family Max. Lot Coverage - Buildings (%)', dtype('O')), ('1-Family Max. Lot Coverage - Buildings & Impervious Surface (%)', dtype('float64')), ('1-Family Min. # Parking Spaces', dtype('float64')), ('1-Family Max. Height (# of stories)', dtype('float64')), ('1-Family Max. Height (# of feet)', dtype('float64')), ('1-Family Floor to Area Ratio', dtype('O')), ('1-Family Min. Unit Size (SF)', dtype('float64')), ('2-Family Affordable Housing Only', dtype('O')), ('2-Family Elderly Housing Only', dtype('O')), ('2-Family Min. Lot (ACRES)', dtype('float64')), ('2-Family Max. Density (UNITS/ACRE)', dtype('float64')), ('2-Family Front Setback (# of feet)', dtype('O')), ('2-Family Side Setback (# of feet)', dtype('float64')), ('2-Family Rear Setback (# of feet)', dtype('float64')), ('2-Family Max. Lot Coverage - Buildings (%)', dtype('O')), ('2-Family Max. Lot Coverage - Buildings & Impervious Surface (%)', dtype('float64')), ('2-Family Min. # Parking Spaces Per Studio or 1BR', dtype('float64')), ('2-Family Min. # Parking Spaces Per 2+ BR', dtype('float64')), ('2-Family Max. Height (# of stories)', dtype('float64')), ('2-Family Max. Height (# of feet)', dtype('float64')), ('2-Family Floor to Area Ratio', dtype('O')), ('2-Family Min. Unit Size (SF)', dtype('float64')), ('3-Family Affordable Housing Only', dtype('O')), ('3-Family Elderly Housing Only', dtype('O')), ('3-Family Min. Lot (ACRES)', dtype('float64')), ('3-Family Max. Density (UNITS/ACRE)', dtype('float64')), ('3-Family Front Setback (# of feet)', dtype('O')), ('3-Family Side Setback (# of feet)', dtype('float64')), ('3-Family Rear Setback (# of feet)', dtype('float64')), ('3-Family Max. Lot Coverage - Buildings (%)', dtype('O')), ('3-Family Max. Lot Coverage - Buildings & Impervious Surface (%)', dtype('float64')), ('3-Family Min. # Parking Spaces Per Studio or 1BR', dtype('float64')), ('3-Family Min. # Parking Spaces Per 2+ BR', dtype('float64')), ('3-Family Connection to Sewer and/or Water Required', dtype('O')), ('3-Family Connection or Proximity to Public Transit Required', dtype('O')), ('3-Family Max. Height (# of stories)', dtype('float64')), ('3-Family Max. Height (# of feet)', dtype('float64')), ('3-Family Floor to Area Ratio', dtype('O')), ('3-Family Min. Unit Size (SF)', dtype('float64')), ('3-Family Max. # Bedrooms Per Unit', dtype('float64')), ('4+-Family Affordable Housing Only', dtype('O')), ('4+-Family Elderly Housing Only', dtype('O')), ('4+-Family Min. Lot (ACRES)', dtype('float64')), ('4+-Family Max. Density (UNITS/ACRE)', dtype('float64')), ('4+-Family Front Setback (# of feet)', dtype('O')), ('4+-Family Side Setback (# of feet)', dtype('float64')), ('4+-Family Rear Setback (# of feet)', dtype('float64')), ('4+-Family Max. Lot Coverage - Buildings (%)', dtype('O')), ('4+-Family Max. Lot Coverage - Buildings & Impervious Surface (%)', dtype('float64')), ('4+-Family Min. # Parking Spaces Per Studio or 1BR', dtype('float64')), ('4+-Family Min. # Parking Spaces Per 2+ BR', dtype('float64')), ('4+-Family Connection to Sewer and/or Water Required', dtype('O')), ('4+-Family Connection or Proximity to Public Transit Required', dtype('O')), ('4+-Family Max. Height (# of stories)', dtype('float64')), ('4+-Family Max. Height (# of feet)', dtype('float64')), ('4+-Family Floor to Area Ratio', dtype('O')), ('4+-Family Min. Unit Size (SF)', dtype('float64')), ('4+-Family Max. # Bedrooms Per Unit', dtype('float64')), ('4+-Family Max. # Units Per Building', dtype('float64')), ('Affordable Housing (AH) Treatment', dtype('O')), ('AH - Definition', dtype('O')), ('AH - Elderly Housing Only', dtype('O')), ('AH Min. Lot (ACRES)', dtype('float64')), ('AH Max. Density (UNITS/ACRE)', dtype('float64')), ('AH Min. # Parking Spaces Per Studio or 1BR', dtype('float64')), ('AH Min. # Parking Spaces Per 2+ BR', dtype('float64')), ('AH Connection to Sewer and/or Water Required', dtype('O')), ('AH Connection or Proximity to Public Transit Required', dtype('O')), ('AH Min. Unit Size (SF)', dtype('float64')), ('AH Max. # Bedrooms Per Unit', dtype('float64')), ('AH Max. # Units Per  Building', dtype('float64')), ('Accessory Dwelling Unit (ADU) Treatment', dtype('O')), ('ADU Employee or Family Occupancy Required', dtype('O')), ('ADU Renter Occupancy Prohibited', dtype('O')), ('ADU Owner Occupancy Required', dtype('O')), ('ADU Elderly Housing Only', dtype('O')), ('ADU Min. Lot (acres)', dtype('float64')), ('ADU Min. # Parking Spaces (Additional to Main Unit)', dtype('float64')), ('ADU Restricted to Only Primary Structure (i.e., No Outbuildings like Garages)', dtype('O')), ('ADU Max. Size (% of MAIN UNIT)', dtype('float64')), ('ADU Max. Size (SF)', dtype('float64')), ('ADU Max. # Bedrooms Per Unit', dtype('float64')), ('Planned Residential Development (PRD) Treatment', dtype('O')), ('Mobile or Manufactured Home Park (Y/N)', dtype('O')), ('PRD Min. Lot (Acres)', dtype('float64')), ('PRD Max. Density (Units/Acre)', dtype('float64')), ('PRD Max. # Units Per Development', dtype('float64')), ('Special Notes', dtype('O')), ('Tooltip Notes', dtype('O')), ('AduMaxSizeLimit', dtype('O')), ('1MUS', dtype('O')), ('2MUS', dtype('O')), ('3MUS', dtype('O')), ('4MUS', dtype('O')), ('MUS', dtype('O')), ('1MLS', dtype('O')), ('2MLS', dtype('O')), ('3MLS', dtype('O')), ('4MLS', dtype('O')), ('1E', dtype('O')), ('2E', dtype('O')), ('3E', dtype('O')), ('4E', dtype('O')), ('AEld', dtype('O')), ('PK', dtype('O')), ('Full District Name', dtype('O'))]\n"
     ]
    }
   ],
   "source": [
    "column_types = final.dtypes.to_dict()\n",
    "column_type_list = list(column_types.items())\n",
    "\n",
    "print(column_type_list)"
   ]
  },
  {
   "cell_type": "markdown",
   "id": "3058ef5b",
   "metadata": {},
   "source": [
    "### Define the `overlay()` function"
   ]
  },
  {
   "cell_type": "code",
   "execution_count": null,
   "id": "00e15cc6",
   "metadata": {},
   "outputs": [],
   "source": [
    "# Given jurisdiction name and abbreviated district name,\n",
    "# combine zoning regulations from base district and overlay district (has priority)\n",
    "# If no base or overlay name are given, deduce from zone using `sep` as a separator between base and overlay\n",
    "# For example, R-10/RM represents a base of R-10 and an overlay of RM\n",
    "def overlay(j, ad, base=None, overlay=None, sep='/'):\n",
    "    \n",
    "    if not base:\n",
    "        base = ad.split(sep)[0].strip()\n",
    "        \n",
    "    if not overlay:\n",
    "        overlay = ad.split(sep)[1].strip()\n",
    "    \n",
    "    col_from = 'Type of Zoning District'\n",
    "    col_to = 'PK' # Parking text column created above\n",
    "    \n",
    "    # Get proper zoning values from the spreadsheet\n",
    "    base_values = zoning.loc[ zoning.Jurisdiction.eq(j) & zoning.AbbreviatedDistrict.eq(base), col_from : col_to ].values\n",
    "    overlay_values = zoning.loc[ zoning.Jurisdiction.eq(j) & zoning.AbbreviatedDistrict.eq(overlay), col_from : col_to ].values\n",
    "    \n",
    "    if len(base_values) != 1:\n",
    "        print(f'Base layer {base} in {j} does not exist, or is not unique!')\n",
    "        return\n",
    "     \n",
    "    if len(overlay_values) != 1:\n",
    "        print(f'Overlay layer {overlay} in {j} does not exist, or is not unique!')\n",
    "        return\n",
    "    \n",
    "    \n",
    "    base_values = base_values[0]\n",
    "    overlay_values = overlay_values[0]\n",
    "    \n",
    "    combined_values = [ o if (o == o and o !='' and o != 'Overlay')\n",
    "                            else b for b, o in zip(base_values, overlay_values) ]\n",
    "\n",
    "    final.loc[ final.Jurisdiction.eq(j) & final.AbbreviatedDistrict.eq(ad), col_from : col_to ] = combined_values\n",
    "    final.loc[ final.Jurisdiction.eq(j) & final.AbbreviatedDistrict.eq(ad), 'Jurisdiction' ] = j\n",
    "    final.loc[ final.Jurisdiction.eq(j) & final.AbbreviatedDistrict.eq(ad), 'AbbreviatedDistrict' ] = base + '/' + overlay\n",
    "    \n",
    "    # Update full district name\n",
    "    final.loc[ final['Jurisdiction'].eq(j) & final['AbbreviatedDistrict'].eq(ad), 'Full District Name' ] = zoning.loc[\n",
    "        zoning.Jurisdiction.eq(j) & zoning.AbbreviatedDistrict.eq(base), 'Full District Name'].iloc[0] + '/' + zoning.loc[\n",
    "        zoning.Jurisdiction.eq(j) & zoning.AbbreviatedDistrict.eq(overlay), 'Full District Name'].iloc[0]"
   ]
  },
  {
   "cell_type": "markdown",
   "id": "00303bc8",
   "metadata": {},
   "source": [
    "### Run `overlay()` on each zone that has an overlay"
   ]
  },
  {
   "cell_type": "code",
   "execution_count": null,
   "id": "07fff11b",
   "metadata": {},
   "outputs": [],
   "source": [
    "# For example:\n",
    "# \n",
    "# overlay('Bristol', 'R-10/RM')\n",
    "# overlay('Hartford', 'NX-1/Campus Overlay', 'NX-#', 'Campus Overlay')"
   ]
  },
  {
   "cell_type": "markdown",
   "id": "60340350",
   "metadata": {},
   "source": [
    "### Account for non-defined zones"
   ]
  },
  {
   "cell_type": "code",
   "execution_count": 180,
   "id": "8d661170",
   "metadata": {},
   "outputs": [],
   "source": [
    "final.loc[ final.AbbreviatedDistrict.isin(['NULL', 'Not Zoned']), 'AbbreviatedDistrict' ] = 'Not Zoned'\n",
    "final.loc[ final.AbbreviatedDistrict.isin(['NULL', 'Not Zoned']), 'Full District Name' ] = 'Not Zoned'\n",
    "final.loc[ final.AbbreviatedDistrict.isin(['NULL', 'Not Zoned']), 'Type of Zoning District' ] = 'Nonresidential'\n",
    "\n",
    "final.loc[ final.AbbreviatedDistrict.eq('Not Zoned'), 'MunicipalAcres' ] = 0"
   ]
  },
  {
   "cell_type": "markdown",
   "id": "7f0f3b6b",
   "metadata": {},
   "source": [
    "### Define column names to shorten"
   ]
  },
  {
   "cell_type": "code",
   "execution_count": 155,
   "id": "7eb8e838",
   "metadata": {},
   "outputs": [],
   "source": [
    "# Column names to shorten\n",
    "cols_xwalk = {\n",
    "    \n",
    "    # Basic district info\n",
    "    'Jurisdiction': 'T',\n",
    "    'Full District or Sub-District Name': 'Z',\n",
    "    'Type of Zoning District': 'Ty',\n",
    "    'MunicipalAcres': 'MA',\n",
    "    \n",
    "    # Type of homes allowed\n",
    "    '1-Family Treatment': '1F',\n",
    "    '2-Family Treatment': '2F',\n",
    "    '3-Family Treatment': '3F',\n",
    "    '4+-Family Treatment': '4F',\n",
    "    'Accessory Dwelling Unit (ADU)': 'AD',\n",
    "    \n",
    "    # Elderly housing\n",
    "    '1E': '1E',\n",
    "    '2E': '2E',\n",
    "    '3E': '3E',\n",
    "    '4E': '4E',\n",
    "    \n",
    "    # Minimum unit size requirement\n",
    "    '1MUS': '1MUS',\n",
    "    '2MUS': '2MUS',\n",
    "    '3MUS': '3MUS',\n",
    "    '4MUS': '4MUS',\n",
    "    'MUS': 'MUS', # any MUS for tooltip\n",
    "    \n",
    "    # Mininum lot size requirement\n",
    "    '1MLS': '1MLS',\n",
    "    '2MLS': '2MLS',\n",
    "    '3MLS': '3MLS',\n",
    "    '4MLS': '4MLS',\n",
    "    \n",
    "    # Affordable/Elderly only\n",
    "    'Affordable Housing District': 'AHD',\n",
    "    'Elderly Housing District': 'EHD',\n",
    "    \n",
    "    # Accessory Dwelling Units restrictions\n",
    "    'ADU Restricted to ONLY Primary Structure (i.e., No Outbuildings like Garages)': 'APrim',\n",
    "    'AduMaxSizeLimit': 'ASize',\n",
    "    'ADU Prohibition on Rental': 'ARent',\n",
    "    'ADU Employees or Family Only': 'AFam',\n",
    "    'ADU Owner Occupancy Required': 'AOwn',\n",
    "    'AEld': 'AEld', # created above\n",
    "    \n",
    "    # Tooltip notes\n",
    "    'Tooltip Notes': 'TN',\n",
    "}\n",
    "\n",
    "# Values to shorten\n",
    "vals_xwalk = {\n",
    "    'Allowed/Conditional': 'A',\n",
    "    'Public Hearing': 'AH',\n",
    "    'Prohibited': 'N',\n",
    "    'Overlay': 'O',\n",
    "    \n",
    "    'Primarily Residential': 'R',\n",
    "    'Mixed with Residential': 'M',\n",
    "    'No Residential': 'N',\n",
    "    'Nonresidential': 'N'\n",
    "}"
   ]
  },
  {
   "cell_type": "markdown",
   "id": "7ec6c1ae",
   "metadata": {},
   "source": [
    "### Save as GeoJSON\n",
    "\n",
    "This file is to be used in the web map. You can further use [`minify-geojson`](https://www.npmjs.com/package/minify-geojson) to compress the file to make it load faster."
   ]
  },
  {
   "cell_type": "code",
   "execution_count": 181,
   "id": "f3086505",
   "metadata": {},
   "outputs": [],
   "source": [
    "(final\n",
    "    .filter( list(cols_xwalk.keys()) + ['geometry'] + ['PK'])\n",
    "    .rename(columns=cols_xwalk)\n",
    "    .replace( vals_xwalk )\n",
    "    # .assign(geometry=lambda df_: df_.geometry.simplify(0.00004))\n",
    "    .to_file(r'web-map\\data\\final.geojson', driver='GeoJSON')\n",
    ")"
   ]
  },
  {
   "cell_type": "code",
   "execution_count": 111,
   "id": "19425254",
   "metadata": {},
   "outputs": [],
   "source": [
    "# save the zoning data to a csv\n",
    "combined_df.to_csv(r'final.csv', index=False)"
   ]
  },
  {
   "cell_type": "markdown",
   "id": "7b741bb5",
   "metadata": {},
   "source": [
    "### Save as CSV\n",
    "This file can then be used to calculate jurisdiction-level statistics and perform analysis"
   ]
  },
  {
   "cell_type": "code",
   "execution_count": 187,
   "id": "9e95b0fb",
   "metadata": {},
   "outputs": [],
   "source": [
    "(final\n",
    " .filter([x for x in final.columns if x != 'geometry'])\n",
    " .to_csv('./final.csv')\n",
    ")"
   ]
  },
  {
   "attachments": {},
   "cell_type": "markdown",
   "id": "c08eb935",
   "metadata": {},
   "source": [
    "# Calculations for MT Atlas Narrative"
   ]
  },
  {
   "attachments": {},
   "cell_type": "markdown",
   "id": "8391fc93",
   "metadata": {},
   "source": [
    "## Overall atlas statistics:\n",
    "### % of zoned land evaluated that welcomes 1 family housing by-right "
   ]
  },
  {
   "cell_type": "code",
   "execution_count": 183,
   "id": "7785b275",
   "metadata": {},
   "outputs": [
    {
     "name": "stdout",
     "output_type": "stream",
     "text": [
      "95.49518358851277\n"
     ]
    }
   ],
   "source": [
    "# Filter the dataframe to only include rows where the '1-Family Treatment' column is 'Allowed/Conditional'\n",
    "filtered_df = final.loc[final['1-Family Treatment'] == 'Allowed/Conditional']\n",
    "\n",
    "# Calculate the total number of acres in the filtered dataframe\n",
    "filtered_total_acres = filtered_df['ZoneAcres'].sum()\n",
    "\n",
    "# Calculate the total number of acres in the original dataframe\n",
    "total_acres = final['ZoneAcres'].sum()\n",
    "\n",
    "# Calculate the percentage of zoned land that welcomes 1-family housing without a public hearing\n",
    "percentage = (filtered_total_acres / total_acres) * 100\n",
    "\n",
    "print(percentage)"
   ]
  },
  {
   "attachments": {},
   "cell_type": "markdown",
   "id": "48fc3c0a",
   "metadata": {},
   "source": [
    "### % of zoned land evaluated that welcomes for 2+ family housing by-right\n"
   ]
  },
  {
   "cell_type": "code",
   "execution_count": 184,
   "id": "51a1df8a",
   "metadata": {},
   "outputs": [
    {
     "name": "stdout",
     "output_type": "stream",
     "text": [
      "50.045618321341266\n"
     ]
    }
   ],
   "source": [
    "# Filter the dataframe to only include rows where the '2-Family Treatment', '3-Family Treatment', or '4+-Family Treatment' columns are 'Allowed/Conditional'\n",
    "filtered_df = final.loc[(final['2-Family Treatment'] == 'Allowed/Conditional') | (final['3-Family Treatment'] == 'Allowed/Conditional') | (final['4+-Family Treatment'] == 'Allowed/Conditional')]\n",
    "\n",
    "# Calculate the total number of acres in the filtered dataframe\n",
    "filtered_total_acres = filtered_df['ZoneAcres'].sum()\n",
    "\n",
    "# Calculate the total number of acres in the original dataframe\n",
    "total_acres = final['ZoneAcres'].sum()\n",
    "\n",
    "# Calculate the percentage of zoned land that meets the specified criteria\n",
    "percentage = (filtered_total_acres / total_acres) * 100\n",
    "\n",
    "print(percentage)"
   ]
  },
  {
   "attachments": {},
   "cell_type": "markdown",
   "id": "eacf51df",
   "metadata": {},
   "source": [
    "### % of zoned land evaluated that welcomes ADU's"
   ]
  },
  {
   "cell_type": "code",
   "execution_count": 185,
   "id": "0b54571a",
   "metadata": {},
   "outputs": [],
   "source": [
    "# Filter the dataframe to only include rows where the 'Accessory Dwelling Unit (ADU) Treatment' column is 'Allowed/Conditional'\n",
    "filtered_df = final.loc[final['Accessory Dwelling Unit (ADU) Treatment'] == 'Allowed/Conditional']\n",
    "\n",
    "# Calculate the total number of acres in the filtered dataframe\n",
    "filtered_total_acres = filtered_df['ZoneAcres'].sum()\n",
    "\n",
    "# Calculate the total number of acres in the original dataframe\n",
    "total_acres = final['ZoneAcres'].sum()\n",
    "\n",
    "# Calculate the percentage of zoned land that meets the specified criteria\n",
    "percentage = (filtered_total_acres / total_acres) * 100\n"
   ]
  },
  {
   "cell_type": "code",
   "execution_count": 186,
   "id": "af9ea068",
   "metadata": {},
   "outputs": [
    {
     "name": "stdout",
     "output_type": "stream",
     "text": [
      "80.75387407491367\n"
     ]
    }
   ],
   "source": [
    "print(percentage)"
   ]
  },
  {
   "attachments": {},
   "cell_type": "markdown",
   "id": "925a061b",
   "metadata": {},
   "source": [
    "### Average minimum lot size required for municipal jurisdictions evaluated"
   ]
  },
  {
   "cell_type": "code",
   "execution_count": 188,
   "id": "47110b19",
   "metadata": {},
   "outputs": [
    {
     "name": "stdout",
     "output_type": "stream",
     "text": [
      "The average for the \"1-Family Min. Lot (ACRES)\" column is: 8.972729007633587\n",
      "The average for the \"2-Family Min. Lot (ACRES)\" column is: 3.89287898089172\n",
      "The average for the \"3-Family Min. Lot (ACRES)\" column is: 0.9933982300884956\n",
      "The average for the \"4+-Family Min. Lot (ACRES)\" column is: 46.85892660550459\n",
      "The overall average is: 15.179483206029598\n"
     ]
    }
   ],
   "source": [
    "# Calculate the average for the \"1-Family Min. Lot (ACRES)\" column\n",
    "average_1_family = final['1-Family Min. Lot (ACRES)'].mean()\n",
    "\n",
    "# Print the average for the \"1-Family Min. Lot (ACRES)\" column\n",
    "print(f'The average for the \"1-Family Min. Lot (ACRES)\" column is: {average_1_family}')\n",
    "\n",
    "# Calculate the average for the \"2-Family Min. Lot (ACRES)\" column\n",
    "average_2_family = final['2-Family Min. Lot (ACRES)'].mean()\n",
    "\n",
    "# Print the average for the \"2-Family Min. Lot (ACRES)\" column\n",
    "print(f'The average for the \"2-Family Min. Lot (ACRES)\" column is: {average_2_family}')\n",
    "\n",
    "# Calculate the average for the \"3-Family Min. Lot (ACRES)\" column\n",
    "average_3_family = final['3-Family Min. Lot (ACRES)'].mean()\n",
    "\n",
    "# Print the average for the \"3-Family Min. Lot (ACRES)\" column\n",
    "print(f'The average for the \"3-Family Min. Lot (ACRES)\" column is: {average_3_family}')\n",
    "\n",
    "# Calculate the average for the \"4+-Family Min. Lot (ACRES)\" column\n",
    "average_4plus_family = final['4+-Family Min. Lot (ACRES)'].mean()\n",
    "\n",
    "# Print the average for the \"4+-Family Min. Lot (ACRES)\" column\n",
    "print(f'The average for the \"4+-Family Min. Lot (ACRES)\" column is: {average_4plus_family}')\n",
    "\n",
    "# Calculate the overall average\n",
    "overall_average = (average_1_family + average_2_family + average_3_family + average_4plus_family) / 4\n",
    "\n",
    "# Print the overall average\n",
    "print(f'The overall average is: {overall_average}')"
   ]
  },
  {
   "attachments": {},
   "cell_type": "markdown",
   "id": "f3d80c2d",
   "metadata": {},
   "source": [
    "## Major Cities (Missoula, Bozeman, Helena, Whitefish, Kalispell, Billings, Butte, Great Falls)\n",
    "### For each city, % of zoned land that welcomes 1, 2, 3, 4 family housing by-right. % for each type. \n"
   ]
  },
  {
   "cell_type": "code",
   "execution_count": 204,
   "id": "924b3ed3",
   "metadata": {},
   "outputs": [
    {
     "data": {
      "text/html": [
       "<div>\n",
       "<style scoped>\n",
       "    .dataframe tbody tr th:only-of-type {\n",
       "        vertical-align: middle;\n",
       "    }\n",
       "\n",
       "    .dataframe tbody tr th {\n",
       "        vertical-align: top;\n",
       "    }\n",
       "\n",
       "    .dataframe thead th {\n",
       "        text-align: right;\n",
       "    }\n",
       "</style>\n",
       "<table border=\"1\" class=\"dataframe\">\n",
       "  <thead>\n",
       "    <tr style=\"text-align: right;\">\n",
       "      <th></th>\n",
       "      <th>Jurisdiction</th>\n",
       "      <th>1-Family Treatment</th>\n",
       "      <th>2-Family Treatment</th>\n",
       "      <th>3-Family Treatment</th>\n",
       "      <th>4+-Family Treatment</th>\n",
       "    </tr>\n",
       "  </thead>\n",
       "  <tbody>\n",
       "    <tr>\n",
       "      <th>0</th>\n",
       "      <td>Billings</td>\n",
       "      <td>64.032165</td>\n",
       "      <td>41.175937</td>\n",
       "      <td>27.073668</td>\n",
       "      <td>28.265890</td>\n",
       "    </tr>\n",
       "    <tr>\n",
       "      <th>1</th>\n",
       "      <td>Bozeman</td>\n",
       "      <td>57.608427</td>\n",
       "      <td>71.652116</td>\n",
       "      <td>43.304992</td>\n",
       "      <td>43.304992</td>\n",
       "    </tr>\n",
       "    <tr>\n",
       "      <th>2</th>\n",
       "      <td>Butte-Silver Bow (County/City)</td>\n",
       "      <td>81.492868</td>\n",
       "      <td>7.033872</td>\n",
       "      <td>6.712656</td>\n",
       "      <td>6.712656</td>\n",
       "    </tr>\n",
       "    <tr>\n",
       "      <th>3</th>\n",
       "      <td>Great Falls</td>\n",
       "      <td>49.955868</td>\n",
       "      <td>8.277001</td>\n",
       "      <td>9.245750</td>\n",
       "      <td>9.245750</td>\n",
       "    </tr>\n",
       "    <tr>\n",
       "      <th>4</th>\n",
       "      <td>Helena</td>\n",
       "      <td>66.203262</td>\n",
       "      <td>58.398965</td>\n",
       "      <td>58.076910</td>\n",
       "      <td>58.076910</td>\n",
       "    </tr>\n",
       "    <tr>\n",
       "      <th>5</th>\n",
       "      <td>KALISPELL</td>\n",
       "      <td>84.781329</td>\n",
       "      <td>48.339600</td>\n",
       "      <td>2.904487</td>\n",
       "      <td>2.904487</td>\n",
       "    </tr>\n",
       "    <tr>\n",
       "      <th>6</th>\n",
       "      <td>Missoula (City)</td>\n",
       "      <td>47.372066</td>\n",
       "      <td>36.910696</td>\n",
       "      <td>28.273157</td>\n",
       "      <td>17.196003</td>\n",
       "    </tr>\n",
       "    <tr>\n",
       "      <th>7</th>\n",
       "      <td>Whitefish</td>\n",
       "      <td>97.554537</td>\n",
       "      <td>46.742391</td>\n",
       "      <td>31.717195</td>\n",
       "      <td>11.652107</td>\n",
       "    </tr>\n",
       "  </tbody>\n",
       "</table>\n",
       "</div>"
      ],
      "text/plain": [
       "                     Jurisdiction  1-Family Treatment  2-Family Treatment  \\\n",
       "0                        Billings           64.032165           41.175937   \n",
       "1                         Bozeman           57.608427           71.652116   \n",
       "2  Butte-Silver Bow (County/City)           81.492868            7.033872   \n",
       "3                     Great Falls           49.955868            8.277001   \n",
       "4                          Helena           66.203262           58.398965   \n",
       "5                       KALISPELL           84.781329           48.339600   \n",
       "6                 Missoula (City)           47.372066           36.910696   \n",
       "7                       Whitefish           97.554537           46.742391   \n",
       "\n",
       "   3-Family Treatment  4+-Family Treatment  \n",
       "0           27.073668            28.265890  \n",
       "1           43.304992            43.304992  \n",
       "2            6.712656             6.712656  \n",
       "3            9.245750             9.245750  \n",
       "4           58.076910            58.076910  \n",
       "5            2.904487             2.904487  \n",
       "6           28.273157            17.196003  \n",
       "7           31.717195            11.652107  "
      ]
     },
     "execution_count": 204,
     "metadata": {},
     "output_type": "execute_result"
    }
   ],
   "source": [
    "# Get a list of the desired values\n",
    "desired_values = ['Missoula (City)', 'Bozeman', 'Helena', 'Whitefish', 'KALISPELL', 'Billings', 'Butte-Silver Bow (County/City)', 'Great Falls']\n",
    "\n",
    "# Create a boolean mask indicating which values in the 'Jurisdiction' column are in the list of desired values\n",
    "mask = final['Jurisdiction'].isin(desired_values)\n",
    "\n",
    "# Use the mask to filter the original dataframe\n",
    "filtered_df = final[mask]\n",
    "\n",
    "# Group the filtered dataframe by the 'Jurisdiction' column\n",
    "grouped_df = filtered_df.groupby('Jurisdiction')\n",
    "\n",
    "# Create an empty dataframe to store the results\n",
    "treatment_results_df = pd.DataFrame()\n",
    "\n",
    "# Iterate over the groups\n",
    "for name, group in grouped_df:\n",
    "    # Filter the group to only include rows where the '1-Family Treatment' column is 'Allowed/Conditional'\n",
    "    filtered_group_1_family = group.loc[group['1-Family Treatment'] == 'Allowed/Conditional']\n",
    "    # Calculate the total number of acres in the filtered group\n",
    "    filtered_total_acres_1_family = filtered_group_1_family['ZoneAcres'].sum()\n",
    "    # Calculate the percentage of zoned land in the jurisdiction that meets the specified criteria\n",
    "    percentage_1_family = (filtered_total_acres_1_family / group['ZoneAcres'].sum()) * 100\n",
    "    \n",
    "    # Filter the group to only include rows where the '2-Family Treatment' column is 'Allowed/Conditional'\n",
    "    filtered_group_2_family = group.loc[group['2-Family Treatment'] == 'Allowed/Conditional']\n",
    "    # Calculate the total number of acres in the filtered group\n",
    "    filtered_total_acres_2_family = filtered_group_2_family['ZoneAcres'].sum()\n",
    "    # Calculate the percentage of zoned land in the jurisdiction that meets the specified criteria\n",
    "    percentage_2_family = (filtered_total_acres_2_family / group['ZoneAcres'].sum()) * 100\n",
    "   \n",
    "    # Filter the group to only include rows where the '3-Family Treatment' column is 'Allowed/Conditional'\n",
    "    filtered_group_3_family = group.loc[group['3-Family Treatment'] == 'Allowed/Conditional']\n",
    "    # Calculate the total number of acres in the filtered group\n",
    "    filtered_total_acres_3_family = filtered_group_3_family['ZoneAcres'].sum()\n",
    "    # Calculate the percentage of zoned land in the jurisdiction that meets the specified criteria\n",
    "    percentage_3_family = (filtered_total_acres_3_family / group['ZoneAcres'].sum()) * 100\n",
    "    \n",
    "    # Filter the group to only include rows where the '4+-Family Treatment' column is 'Allowed/Conditional'\n",
    "    filtered_group_4plus_family = group.loc[group['4+-Family Treatment'] == 'Allowed/Conditional']\n",
    "    # Calculate the total number of acres in the filtered group\n",
    "    filtered_total_acres_4plus_family = filtered_group_4plus_family['ZoneAcres'].sum()\n",
    "    # Calculate the percentage of zoned land in the jurisdiction that meets the specified criteria\n",
    "    percentage_4plus_family = (filtered_total_acres_4plus_family / group['ZoneAcres'].sum()) * 100\n",
    "    \n",
    "    # Append a row to the results dataframe\n",
    "    row = pd.DataFrame({'Jurisdiction': name,\n",
    "                    '1-Family Treatment': percentage_1_family,\n",
    "                    '2-Family Treatment': percentage_2_family,\n",
    "                    '3-Family Treatment': percentage_3_family,\n",
    "                    '4+-Family Treatment': percentage_4plus_family}, index=[0])\n",
    "    treatment_results_df = pd.concat([treatment_results_df, row], ignore_index=True)\n",
    "\n",
    "treatment_results_df.head(8)"
   ]
  },
  {
   "cell_type": "code",
   "execution_count": 210,
   "id": "31e1f1b9",
   "metadata": {},
   "outputs": [],
   "source": [
    "# export to csv\n",
    "treatment_results_df.to_csv('treatment_results.csv')"
   ]
  },
  {
   "attachments": {},
   "cell_type": "markdown",
   "id": "59909c6c",
   "metadata": {},
   "source": [
    "### For each city, % of zoned land that welcomes ADU's. "
   ]
  },
  {
   "cell_type": "code",
   "execution_count": 205,
   "id": "aa861aaf",
   "metadata": {},
   "outputs": [
    {
     "data": {
      "text/html": [
       "<div>\n",
       "<style scoped>\n",
       "    .dataframe tbody tr th:only-of-type {\n",
       "        vertical-align: middle;\n",
       "    }\n",
       "\n",
       "    .dataframe tbody tr th {\n",
       "        vertical-align: top;\n",
       "    }\n",
       "\n",
       "    .dataframe thead th {\n",
       "        text-align: right;\n",
       "    }\n",
       "</style>\n",
       "<table border=\"1\" class=\"dataframe\">\n",
       "  <thead>\n",
       "    <tr style=\"text-align: right;\">\n",
       "      <th></th>\n",
       "      <th>Jurisdiction</th>\n",
       "      <th>Accessory Dwelling Unit (ADU) Treatment</th>\n",
       "    </tr>\n",
       "  </thead>\n",
       "  <tbody>\n",
       "    <tr>\n",
       "      <th>0</th>\n",
       "      <td>Billings</td>\n",
       "      <td>17.890500</td>\n",
       "    </tr>\n",
       "    <tr>\n",
       "      <th>1</th>\n",
       "      <td>Bozeman</td>\n",
       "      <td>56.695686</td>\n",
       "    </tr>\n",
       "    <tr>\n",
       "      <th>2</th>\n",
       "      <td>Butte-Silver Bow (County/City)</td>\n",
       "      <td>0.086531</td>\n",
       "    </tr>\n",
       "    <tr>\n",
       "      <th>3</th>\n",
       "      <td>Great Falls</td>\n",
       "      <td>64.378397</td>\n",
       "    </tr>\n",
       "    <tr>\n",
       "      <th>4</th>\n",
       "      <td>Helena</td>\n",
       "      <td>44.272727</td>\n",
       "    </tr>\n",
       "    <tr>\n",
       "      <th>5</th>\n",
       "      <td>KALISPELL</td>\n",
       "      <td>48.339600</td>\n",
       "    </tr>\n",
       "    <tr>\n",
       "      <th>6</th>\n",
       "      <td>Missoula (City)</td>\n",
       "      <td>46.723654</td>\n",
       "    </tr>\n",
       "    <tr>\n",
       "      <th>7</th>\n",
       "      <td>Whitefish</td>\n",
       "      <td>72.313954</td>\n",
       "    </tr>\n",
       "  </tbody>\n",
       "</table>\n",
       "</div>"
      ],
      "text/plain": [
       "                     Jurisdiction  Accessory Dwelling Unit (ADU) Treatment\n",
       "0                        Billings                                17.890500\n",
       "1                         Bozeman                                56.695686\n",
       "2  Butte-Silver Bow (County/City)                                 0.086531\n",
       "3                     Great Falls                                64.378397\n",
       "4                          Helena                                44.272727\n",
       "5                       KALISPELL                                48.339600\n",
       "6                 Missoula (City)                                46.723654\n",
       "7                       Whitefish                                72.313954"
      ]
     },
     "execution_count": 205,
     "metadata": {},
     "output_type": "execute_result"
    }
   ],
   "source": [
    "# Get a list of the desired values\n",
    "desired_values = ['Missoula (City)', 'Bozeman', 'Helena', 'Whitefish', 'KALISPELL', 'Billings', 'Butte-Silver Bow (County/City)', 'Great Falls']\n",
    "\n",
    "# Create a boolean mask indicating which values in the 'Jurisdiction' column are in the list of desired values\n",
    "mask = final['Jurisdiction'].isin(desired_values)\n",
    "\n",
    "# Use the mask to filter the original dataframe\n",
    "filtered_df = final[mask]\n",
    "\n",
    "# Group the filtered dataframe by the 'Jurisdiction' column\n",
    "grouped_df = filtered_df.groupby('Jurisdiction')\n",
    "\n",
    "# Create an empty dataframe to store the results\n",
    "adu_results_df = pd.DataFrame()\n",
    "\n",
    "# Iterate over the groups\n",
    "for name, group in grouped_df:\n",
    "    # Filter the group to only include rows where the 'Accessory Dwelling Unit (ADU) Treatment' column is 'Allowed/Conditional'\n",
    "    filtered_group_adu = group.loc[group['Accessory Dwelling Unit (ADU) Treatment'] == 'Allowed/Conditional']\n",
    "    # Calculate the total number of acres in the filtered group\n",
    "    filtered_total_acres_adu = filtered_group_adu['ZoneAcres'].sum()\n",
    "    # Calculate the percentage of zoned land in the jurisdiction that meets the specified criteria\n",
    "    percentage_adu = (filtered_total_acres_adu / group['ZoneAcres'].sum()) * 100\n",
    "\n",
    "    # Append a row to the results dataframe\n",
    "    row = pd.DataFrame({'Jurisdiction': name,\n",
    "                        'Accessory Dwelling Unit (ADU) Treatment': percentage_adu}, index=[0])\n",
    "    adu_results_df = pd.concat([adu_results_df, row], ignore_index=True)\n",
    "\n",
    "adu_results_df.head(8)"
   ]
  },
  {
   "cell_type": "code",
   "execution_count": 211,
   "id": "88449848",
   "metadata": {},
   "outputs": [],
   "source": [
    "# export to csv\n",
    "adu_results_df.to_csv('adu_results.csv')"
   ]
  },
  {
   "attachments": {},
   "cell_type": "markdown",
   "id": "2f7400cc",
   "metadata": {},
   "source": [
    "## Major County Jurisdictions (Missoula, Gallatin, Lewis and Clark, Flathead, Yellowstone, Silver Bow, Cascade)\n",
    "### For each county, % of zoned land that welcomes 1, 2, 3, 4 family housing by-right. % for each type. \n"
   ]
  },
  {
   "cell_type": "code",
   "execution_count": 208,
   "id": "26d2604a",
   "metadata": {},
   "outputs": [
    {
     "data": {
      "text/html": [
       "<div>\n",
       "<style scoped>\n",
       "    .dataframe tbody tr th:only-of-type {\n",
       "        vertical-align: middle;\n",
       "    }\n",
       "\n",
       "    .dataframe tbody tr th {\n",
       "        vertical-align: top;\n",
       "    }\n",
       "\n",
       "    .dataframe thead th {\n",
       "        text-align: right;\n",
       "    }\n",
       "</style>\n",
       "<table border=\"1\" class=\"dataframe\">\n",
       "  <thead>\n",
       "    <tr style=\"text-align: right;\">\n",
       "      <th></th>\n",
       "      <th>Jurisdiction</th>\n",
       "      <th>1-Family Treatment</th>\n",
       "      <th>2-Family Treatment</th>\n",
       "      <th>3-Family Treatment</th>\n",
       "      <th>4+-Family Treatment</th>\n",
       "    </tr>\n",
       "  </thead>\n",
       "  <tbody>\n",
       "    <tr>\n",
       "      <th>0</th>\n",
       "      <td>Cascade County</td>\n",
       "      <td>99.114737</td>\n",
       "      <td>91.781163</td>\n",
       "      <td>0.170240</td>\n",
       "      <td>0.170240</td>\n",
       "    </tr>\n",
       "    <tr>\n",
       "      <th>1</th>\n",
       "      <td>Flathead County</td>\n",
       "      <td>82.109019</td>\n",
       "      <td>14.770707</td>\n",
       "      <td>13.153985</td>\n",
       "      <td>12.909112</td>\n",
       "    </tr>\n",
       "    <tr>\n",
       "      <th>2</th>\n",
       "      <td>Gallatin</td>\n",
       "      <td>78.291101</td>\n",
       "      <td>25.388515</td>\n",
       "      <td>21.551944</td>\n",
       "      <td>23.191003</td>\n",
       "    </tr>\n",
       "    <tr>\n",
       "      <th>3</th>\n",
       "      <td>Lewis and Clark</td>\n",
       "      <td>89.386865</td>\n",
       "      <td>88.483032</td>\n",
       "      <td>2.971166</td>\n",
       "      <td>2.971166</td>\n",
       "    </tr>\n",
       "    <tr>\n",
       "      <th>4</th>\n",
       "      <td>Missoula County</td>\n",
       "      <td>90.775024</td>\n",
       "      <td>53.798195</td>\n",
       "      <td>6.808844</td>\n",
       "      <td>5.274256</td>\n",
       "    </tr>\n",
       "    <tr>\n",
       "      <th>5</th>\n",
       "      <td>Silver Bow County</td>\n",
       "      <td>81.492868</td>\n",
       "      <td>7.033872</td>\n",
       "      <td>6.712656</td>\n",
       "      <td>6.712656</td>\n",
       "    </tr>\n",
       "    <tr>\n",
       "      <th>6</th>\n",
       "      <td>Yellowstone County</td>\n",
       "      <td>81.915773</td>\n",
       "      <td>10.874892</td>\n",
       "      <td>7.365457</td>\n",
       "      <td>7.389343</td>\n",
       "    </tr>\n",
       "  </tbody>\n",
       "</table>\n",
       "</div>"
      ],
      "text/plain": [
       "         Jurisdiction  1-Family Treatment  2-Family Treatment  \\\n",
       "0      Cascade County           99.114737           91.781163   \n",
       "1     Flathead County           82.109019           14.770707   \n",
       "2            Gallatin           78.291101           25.388515   \n",
       "3     Lewis and Clark           89.386865           88.483032   \n",
       "4     Missoula County           90.775024           53.798195   \n",
       "5   Silver Bow County           81.492868            7.033872   \n",
       "6  Yellowstone County           81.915773           10.874892   \n",
       "\n",
       "   3-Family Treatment  4+-Family Treatment  \n",
       "0            0.170240             0.170240  \n",
       "1           13.153985            12.909112  \n",
       "2           21.551944            23.191003  \n",
       "3            2.971166             2.971166  \n",
       "4            6.808844             5.274256  \n",
       "5            6.712656             6.712656  \n",
       "6            7.365457             7.389343  "
      ]
     },
     "execution_count": 208,
     "metadata": {},
     "output_type": "execute_result"
    }
   ],
   "source": [
    "# Get a list of the desired values\n",
    "desired_values = ['Missoula County','Gallatin', 'Lewis and Clark', 'Flathead County', 'Yellowstone County','Silver Bow County', 'Cascade County']\n",
    "\n",
    "# Create a boolean mask indicating which values in the 'Jurisdiction' column are in the list of desired values\n",
    "county_mask = final['County'].isin(desired_values)\n",
    "\n",
    "# Use the mask to filter the original dataframe\n",
    "filtered_df = final[county_mask]\n",
    "\n",
    "# Group the filtered dataframe by the 'Jurisdiction' column\n",
    "grouped_df = filtered_df.groupby('County')\n",
    "\n",
    "# Create an empty dataframe to store the results\n",
    "county_treatment_results_df = pd.DataFrame()\n",
    "\n",
    "# Iterate over the groups\n",
    "for name, group in grouped_df:\n",
    "    # Filter the group to only include rows where the '1-Family Treatment' column is 'Allowed/Conditional'\n",
    "    filtered_group_1_family = group.loc[group['1-Family Treatment'] == 'Allowed/Conditional']\n",
    "    # Calculate the total number of acres in the filtered group\n",
    "    filtered_total_acres_1_family = filtered_group_1_family['ZoneAcres'].sum()\n",
    "    # Calculate the percentage of zoned land in the jurisdiction that meets the specified criteria\n",
    "    percentage_1_family = (filtered_total_acres_1_family / group['ZoneAcres'].sum()) * 100\n",
    "    \n",
    "    # Filter the group to only include rows where the '2-Family Treatment' column is 'Allowed/Conditional'\n",
    "    filtered_group_2_family = group.loc[group['2-Family Treatment'] == 'Allowed/Conditional']\n",
    "    # Calculate the total number of acres in the filtered group\n",
    "    filtered_total_acres_2_family = filtered_group_2_family['ZoneAcres'].sum()\n",
    "    # Calculate the percentage of zoned land in the jurisdiction that meets the specified criteria\n",
    "    percentage_2_family = (filtered_total_acres_2_family / group['ZoneAcres'].sum()) * 100\n",
    "   \n",
    "    # Filter the group to only include rows where the '3-Family Treatment' column is 'Allowed/Conditional'\n",
    "    filtered_group_3_family = group.loc[group['3-Family Treatment'] == 'Allowed/Conditional']\n",
    "    # Calculate the total number of acres in the filtered group\n",
    "    filtered_total_acres_3_family = filtered_group_3_family['ZoneAcres'].sum()\n",
    "    # Calculate the percentage of zoned land in the jurisdiction that meets the specified criteria\n",
    "    percentage_3_family = (filtered_total_acres_3_family / group['ZoneAcres'].sum()) * 100\n",
    "    \n",
    "    # Filter the group to only include rows where the '4+-Family Treatment' column is 'Allowed/Conditional'\n",
    "    filtered_group_4plus_family = group.loc[group['4+-Family Treatment'] == 'Allowed/Conditional']\n",
    "    # Calculate the total number of acres in the filtered group\n",
    "    filtered_total_acres_4plus_family = filtered_group_4plus_family['ZoneAcres'].sum()\n",
    "    # Calculate the percentage of zoned land in the jurisdiction that meets the specified criteria\n",
    "    percentage_4plus_family = (filtered_total_acres_4plus_family / group['ZoneAcres'].sum()) * 100\n",
    "    \n",
    "    # Append a row to the results dataframe\n",
    "    row = pd.DataFrame({'Jurisdiction': name,\n",
    "                    '1-Family Treatment': percentage_1_family,\n",
    "                    '2-Family Treatment': percentage_2_family,\n",
    "                    '3-Family Treatment': percentage_3_family,\n",
    "                    '4+-Family Treatment': percentage_4plus_family}, index=[0])\n",
    "    county_treatment_results_df = pd.concat([county_treatment_results_df, row], ignore_index=True)\n",
    "\n",
    "county_treatment_results_df.head(8)"
   ]
  },
  {
   "cell_type": "code",
   "execution_count": 212,
   "id": "3eaeb451",
   "metadata": {},
   "outputs": [],
   "source": [
    "# export to csv\n",
    "county_treatment_results_df.to_csv('county_treatment_results.csv')"
   ]
  },
  {
   "attachments": {},
   "cell_type": "markdown",
   "id": "cad2ba72",
   "metadata": {},
   "source": [
    "### For each county, % of zoned land that welcomes ADU's. % for each county. "
   ]
  },
  {
   "cell_type": "code",
   "execution_count": 209,
   "id": "2d8794d5",
   "metadata": {},
   "outputs": [
    {
     "data": {
      "text/html": [
       "<div>\n",
       "<style scoped>\n",
       "    .dataframe tbody tr th:only-of-type {\n",
       "        vertical-align: middle;\n",
       "    }\n",
       "\n",
       "    .dataframe tbody tr th {\n",
       "        vertical-align: top;\n",
       "    }\n",
       "\n",
       "    .dataframe thead th {\n",
       "        text-align: right;\n",
       "    }\n",
       "</style>\n",
       "<table border=\"1\" class=\"dataframe\">\n",
       "  <thead>\n",
       "    <tr style=\"text-align: right;\">\n",
       "      <th></th>\n",
       "      <th>Jurisdiction</th>\n",
       "      <th>Accessory Dwelling Unit (ADU) Treatment</th>\n",
       "    </tr>\n",
       "  </thead>\n",
       "  <tbody>\n",
       "    <tr>\n",
       "      <th>0</th>\n",
       "      <td>Cascade County</td>\n",
       "      <td>92.267722</td>\n",
       "    </tr>\n",
       "    <tr>\n",
       "      <th>1</th>\n",
       "      <td>Flathead County</td>\n",
       "      <td>31.765063</td>\n",
       "    </tr>\n",
       "    <tr>\n",
       "      <th>2</th>\n",
       "      <td>Gallatin</td>\n",
       "      <td>66.513132</td>\n",
       "    </tr>\n",
       "    <tr>\n",
       "      <th>3</th>\n",
       "      <td>Lewis and Clark</td>\n",
       "      <td>10.396394</td>\n",
       "    </tr>\n",
       "    <tr>\n",
       "      <th>4</th>\n",
       "      <td>Missoula County</td>\n",
       "      <td>90.436949</td>\n",
       "    </tr>\n",
       "    <tr>\n",
       "      <th>5</th>\n",
       "      <td>Silver Bow County</td>\n",
       "      <td>0.086531</td>\n",
       "    </tr>\n",
       "    <tr>\n",
       "      <th>6</th>\n",
       "      <td>Yellowstone County</td>\n",
       "      <td>54.474881</td>\n",
       "    </tr>\n",
       "  </tbody>\n",
       "</table>\n",
       "</div>"
      ],
      "text/plain": [
       "         Jurisdiction  Accessory Dwelling Unit (ADU) Treatment\n",
       "0      Cascade County                                92.267722\n",
       "1     Flathead County                                31.765063\n",
       "2            Gallatin                                66.513132\n",
       "3     Lewis and Clark                                10.396394\n",
       "4     Missoula County                                90.436949\n",
       "5   Silver Bow County                                 0.086531\n",
       "6  Yellowstone County                                54.474881"
      ]
     },
     "execution_count": 209,
     "metadata": {},
     "output_type": "execute_result"
    }
   ],
   "source": [
    "# Get a list of the desired values\n",
    "desired_values = ['Missoula County','Gallatin', 'Lewis and Clark', 'Flathead County', 'Yellowstone County','Silver Bow County', 'Cascade County']\n",
    "\n",
    "# Create a boolean mask indicating which values in the 'Jurisdiction' column are in the list of desired values\n",
    "county_mask = final['County'].isin(desired_values)\n",
    "\n",
    "# Use the mask to filter the original dataframe\n",
    "filtered_df = final[county_mask]\n",
    "\n",
    "# Group the filtered dataframe by the 'Jurisdiction' column\n",
    "grouped_df = filtered_df.groupby('County')\n",
    "\n",
    "# Create an empty dataframe to store the results\n",
    "county_adu_results_df = pd.DataFrame()\n",
    "\n",
    "# Iterate over the groups\n",
    "for name, group in grouped_df:\n",
    "    # Filter the group to only include rows where the 'Accessory Dwelling Unit (ADU) Treatment' column is 'Allowed/Conditional'\n",
    "    filtered_group_adu = group.loc[group['Accessory Dwelling Unit (ADU) Treatment'] == 'Allowed/Conditional']\n",
    "    # Calculate the total number of acres in the filtered group\n",
    "    filtered_total_acres_adu = filtered_group_adu['ZoneAcres'].sum()\n",
    "    # Calculate the percentage of zoned land in the jurisdiction that meets the specified criteria\n",
    "    percentage_adu = (filtered_total_acres_adu / group['ZoneAcres'].sum()) * 100\n",
    "\n",
    "    # Append a row to the results dataframe\n",
    "    row = pd.DataFrame({'Jurisdiction': name,\n",
    "                        'Accessory Dwelling Unit (ADU) Treatment': percentage_adu}, index=[0])\n",
    "    county_adu_results_df = pd.concat([county_adu_results_df, row], ignore_index=True)\n",
    "\n",
    "county_adu_results_df.head(8)"
   ]
  },
  {
   "cell_type": "code",
   "execution_count": 213,
   "id": "f83f32b7",
   "metadata": {},
   "outputs": [],
   "source": [
    "# export to csv\n",
    "county_adu_results_df.to_csv('county_adu_results.csv')"
   ]
  }
 ],
 "metadata": {
  "kernelspec": {
   "display_name": "mtAtlasEnv",
   "language": "python",
   "name": "python3"
  },
  "language_info": {
   "codemirror_mode": {
    "name": "ipython",
    "version": 3
   },
   "file_extension": ".py",
   "mimetype": "text/x-python",
   "name": "python",
   "nbconvert_exporter": "python",
   "pygments_lexer": "ipython3",
   "version": "3.10.9"
  },
  "vscode": {
   "interpreter": {
    "hash": "9e4f988564fa76bfb1b7ecd31ba998d861b57ef9720356b8ec3df795ae698aa7"
   }
  }
 },
 "nbformat": 4,
 "nbformat_minor": 5
}
