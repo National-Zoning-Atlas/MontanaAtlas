{
 "cells": [
  {
   "cell_type": "markdown",
   "id": "ea4ea1e3-0eac-4b65-9f45-040d500357c6",
   "metadata": {},
   "source": [
    "# Get Jurisdiction Demographics\n",
    "\n",
    "* About ACS: https://www.census.gov/data/developers/data-sets/acs-5year.html\n",
    "* Census API documentation: https://www.census.gov/content/dam/Census/data/developers/api-user-guide/api-guide.pdf\n",
    "* Uses [`census`](https://pypi.org/project/census/) Python library to get ACS data (median household income, % people of color, and % cost-burdened households) for relevant geographies. May need to run `pip install census` to install the library prior to running this notebook.\n",
    "* Detailed profiles: https://api.census.gov/data/2020/acs/acs5/profile/variables.html\n",
    "* Regular tables: https://api.census.gov/data/2020/acs/acs5/variables.html"
   ]
  },
  {
   "cell_type": "code",
   "execution_count": 88,
   "id": "8bfe2dbe-2445-4adc-ab2c-8c1ef867cdd9",
   "metadata": {},
   "outputs": [],
   "source": [
    "import pandas as pd\n",
    "from census import Census"
   ]
  },
  {
   "cell_type": "code",
   "execution_count": 89,
   "id": "eeb8be96-200f-4461-94e7-ff708c102b50",
   "metadata": {},
   "outputs": [],
   "source": [
    "# Initialize Census with API key\n",
    "c = Census('814fa83c203ce788d409c12321970a9cf0bf1b03')\n",
    "\n",
    "# Define geographic level\n",
    "geo = {\n",
    "    'for': 'county subdivision:*',\n",
    "    'in': 'state:09'\n",
    "}\n",
    "\n",
    "year = 2019 # ACS release year"
   ]
  },
  {
   "cell_type": "markdown",
   "id": "1ec9465f-7385-4ee7-b3a1-ea4591419451",
   "metadata": {},
   "source": [
    "### Get median household income per jurisdiction"
   ]
  },
  {
   "cell_type": "code",
   "execution_count": 90,
   "id": "19de29d3-2450-4181-bace-511d34414eff",
   "metadata": {},
   "outputs": [
    {
     "data": {
      "text/html": [
       "<div>\n",
       "<style scoped>\n",
       "    .dataframe tbody tr th:only-of-type {\n",
       "        vertical-align: middle;\n",
       "    }\n",
       "\n",
       "    .dataframe tbody tr th {\n",
       "        vertical-align: top;\n",
       "    }\n",
       "\n",
       "    .dataframe thead th {\n",
       "        text-align: right;\n",
       "    }\n",
       "</style>\n",
       "<table border=\"1\" class=\"dataframe\">\n",
       "  <thead>\n",
       "    <tr style=\"text-align: right;\">\n",
       "      <th></th>\n",
       "      <th>NAME</th>\n",
       "      <th>income</th>\n",
       "    </tr>\n",
       "  </thead>\n",
       "  <tbody>\n",
       "    <tr>\n",
       "      <th>0</th>\n",
       "      <td>Westbrook town, Middlesex County, Connecticut</td>\n",
       "      <td>79707.0</td>\n",
       "    </tr>\n",
       "    <tr>\n",
       "      <th>1</th>\n",
       "      <td>County subdivisions not defined, Middlesex Cou...</td>\n",
       "      <td>-666666666.0</td>\n",
       "    </tr>\n",
       "    <tr>\n",
       "      <th>2</th>\n",
       "      <td>East Haddam town, Middlesex County, Connecticut</td>\n",
       "      <td>96928.0</td>\n",
       "    </tr>\n",
       "    <tr>\n",
       "      <th>3</th>\n",
       "      <td>Old Saybrook town, Middlesex County, Connecticut</td>\n",
       "      <td>83132.0</td>\n",
       "    </tr>\n",
       "    <tr>\n",
       "      <th>4</th>\n",
       "      <td>Durham town, Middlesex County, Connecticut</td>\n",
       "      <td>119905.0</td>\n",
       "    </tr>\n",
       "  </tbody>\n",
       "</table>\n",
       "</div>"
      ],
      "text/plain": [
       "                                                NAME       income\n",
       "0      Westbrook town, Middlesex County, Connecticut      79707.0\n",
       "1  County subdivisions not defined, Middlesex Cou... -666666666.0\n",
       "2    East Haddam town, Middlesex County, Connecticut      96928.0\n",
       "3   Old Saybrook town, Middlesex County, Connecticut      83132.0\n",
       "4         Durham town, Middlesex County, Connecticut     119905.0"
      ]
     },
     "execution_count": 90,
     "metadata": {},
     "output_type": "execute_result"
    }
   ],
   "source": [
    "# Get data for all towns (county subdvisions) in CT (state code 09)\n",
    "income_raw = c.acs5.get(\n",
    "    ['NAME', 'B19013_001E'], # variables\n",
    "    geo,\n",
    "    year=year # ACS release year\n",
    ")\n",
    "\n",
    "income = pd.DataFrame(\n",
    "    income_raw\n",
    ").rename(\n",
    "    columns={\n",
    "        'B19013_001E': 'income'\n",
    "    }\n",
    ").filter(['NAME', 'income'])\n",
    "\n",
    "income.head()"
   ]
  },
  {
   "cell_type": "markdown",
   "id": "ae1f4a65-788d-45fa-ae17-353b85b9dd7e",
   "metadata": {},
   "source": [
    "### Calculate % BIPOC per jurisdiction"
   ]
  },
  {
   "cell_type": "code",
   "execution_count": 91,
   "id": "0e456ca7-508b-484b-9186-359ebede6129",
   "metadata": {},
   "outputs": [
    {
     "data": {
      "text/html": [
       "<div>\n",
       "<style scoped>\n",
       "    .dataframe tbody tr th:only-of-type {\n",
       "        vertical-align: middle;\n",
       "    }\n",
       "\n",
       "    .dataframe tbody tr th {\n",
       "        vertical-align: top;\n",
       "    }\n",
       "\n",
       "    .dataframe thead th {\n",
       "        text-align: right;\n",
       "    }\n",
       "</style>\n",
       "<table border=\"1\" class=\"dataframe\">\n",
       "  <thead>\n",
       "    <tr style=\"text-align: right;\">\n",
       "      <th></th>\n",
       "      <th>NAME</th>\n",
       "      <th>bipoc</th>\n",
       "    </tr>\n",
       "  </thead>\n",
       "  <tbody>\n",
       "    <tr>\n",
       "      <th>0</th>\n",
       "      <td>Westbrook town, Middlesex County, Connecticut</td>\n",
       "      <td>7.9</td>\n",
       "    </tr>\n",
       "    <tr>\n",
       "      <th>1</th>\n",
       "      <td>County subdivisions not defined, Middlesex Cou...</td>\n",
       "      <td>666666766.0</td>\n",
       "    </tr>\n",
       "    <tr>\n",
       "      <th>2</th>\n",
       "      <td>East Haddam town, Middlesex County, Connecticut</td>\n",
       "      <td>4.8</td>\n",
       "    </tr>\n",
       "    <tr>\n",
       "      <th>3</th>\n",
       "      <td>Old Saybrook town, Middlesex County, Connecticut</td>\n",
       "      <td>10.5</td>\n",
       "    </tr>\n",
       "    <tr>\n",
       "      <th>4</th>\n",
       "      <td>Durham town, Middlesex County, Connecticut</td>\n",
       "      <td>3.5</td>\n",
       "    </tr>\n",
       "  </tbody>\n",
       "</table>\n",
       "</div>"
      ],
      "text/plain": [
       "                                                NAME        bipoc\n",
       "0      Westbrook town, Middlesex County, Connecticut          7.9\n",
       "1  County subdivisions not defined, Middlesex Cou...  666666766.0\n",
       "2    East Haddam town, Middlesex County, Connecticut          4.8\n",
       "3   Old Saybrook town, Middlesex County, Connecticut         10.5\n",
       "4         Durham town, Middlesex County, Connecticut          3.5"
      ]
     },
     "execution_count": 91,
     "metadata": {},
     "output_type": "execute_result"
    }
   ],
   "source": [
    "bipoc_raw = c.acs5dp.get(\n",
    "    ['NAME', 'DP05_0077PE'],\n",
    "     geo,\n",
    "     year=year\n",
    ")\n",
    "\n",
    "bipoc = pd.DataFrame(\n",
    "    bipoc_raw\n",
    ").assign(\n",
    "    bipoc=lambda df_: round(100 - df_.DP05_0077PE, 1)\n",
    ").filter(['NAME', 'bipoc'])\n",
    "\n",
    "bipoc.head()"
   ]
  },
  {
   "cell_type": "markdown",
   "id": "ba4a1b65-14b7-4b51-ab4b-89f1e9cdf4a1",
   "metadata": {},
   "source": [
    "### Calculate % cost-burdened households per jurisdiction"
   ]
  },
  {
   "cell_type": "code",
   "execution_count": 92,
   "id": "89382a90-7392-47a4-a540-db2b98a7144e",
   "metadata": {},
   "outputs": [
    {
     "data": {
      "text/html": [
       "<div>\n",
       "<style scoped>\n",
       "    .dataframe tbody tr th:only-of-type {\n",
       "        vertical-align: middle;\n",
       "    }\n",
       "\n",
       "    .dataframe tbody tr th {\n",
       "        vertical-align: top;\n",
       "    }\n",
       "\n",
       "    .dataframe thead th {\n",
       "        text-align: right;\n",
       "    }\n",
       "</style>\n",
       "<table border=\"1\" class=\"dataframe\">\n",
       "  <thead>\n",
       "    <tr style=\"text-align: right;\">\n",
       "      <th></th>\n",
       "      <th>NAME</th>\n",
       "      <th>burdened</th>\n",
       "    </tr>\n",
       "  </thead>\n",
       "  <tbody>\n",
       "    <tr>\n",
       "      <th>0</th>\n",
       "      <td>Westbrook town, Middlesex County, Connecticut</td>\n",
       "      <td>37.1</td>\n",
       "    </tr>\n",
       "    <tr>\n",
       "      <th>1</th>\n",
       "      <td>County subdivisions not defined, Middlesex Cou...</td>\n",
       "      <td>NaN</td>\n",
       "    </tr>\n",
       "    <tr>\n",
       "      <th>2</th>\n",
       "      <td>East Haddam town, Middlesex County, Connecticut</td>\n",
       "      <td>26.2</td>\n",
       "    </tr>\n",
       "    <tr>\n",
       "      <th>3</th>\n",
       "      <td>Old Saybrook town, Middlesex County, Connecticut</td>\n",
       "      <td>33.3</td>\n",
       "    </tr>\n",
       "    <tr>\n",
       "      <th>4</th>\n",
       "      <td>Durham town, Middlesex County, Connecticut</td>\n",
       "      <td>21.6</td>\n",
       "    </tr>\n",
       "  </tbody>\n",
       "</table>\n",
       "</div>"
      ],
      "text/plain": [
       "                                                NAME  burdened\n",
       "0      Westbrook town, Middlesex County, Connecticut      37.1\n",
       "1  County subdivisions not defined, Middlesex Cou...       NaN\n",
       "2    East Haddam town, Middlesex County, Connecticut      26.2\n",
       "3   Old Saybrook town, Middlesex County, Connecticut      33.3\n",
       "4         Durham town, Middlesex County, Connecticut      21.6"
      ]
     },
     "execution_count": 92,
     "metadata": {},
     "output_type": "execute_result"
    }
   ],
   "source": [
    "costburdened_raw = c.acs5dp.get(\n",
    "    ['NAME',\n",
    "     # owners, with mortgage:\n",
    "     'DP04_0110E', 'DP04_0114E', 'DP04_0115E',\n",
    "     # owners, without mortgage:\n",
    "     'DP04_0117E', 'DP04_0123E', 'DP04_0124E',\n",
    "     # renters:\n",
    "     'DP04_0136E', 'DP04_0141E', 'DP04_0142E'\n",
    "    ],\n",
    "    geo,\n",
    "    year=year\n",
    ")\n",
    "\n",
    "costburdened = pd.DataFrame(\n",
    "    costburdened_raw\n",
    ").assign(\n",
    "    num=lambda df_: df_.DP04_0114E + df_.DP04_0115E \\\n",
    "        + df_.DP04_0123E + df_.DP04_0124E + df_.DP04_0141E + df_.DP04_0142E,\n",
    "    denom=lambda df_: df_.DP04_0110E + df_.DP04_0117E + df_.DP04_0136E,\n",
    "    burdened=lambda df_: round(df_.num / df_.denom*100, 1)\n",
    ").filter(['NAME', 'burdened'])\n",
    "\n",
    "costburdened.head()"
   ]
  },
  {
   "cell_type": "markdown",
   "id": "1bf0b6e4-2b95-4453-b55e-7cb366b53312",
   "metadata": {},
   "source": [
    "### Combine three variables into a single dataframe, and save"
   ]
  },
  {
   "cell_type": "code",
   "execution_count": 93,
   "id": "2663902e-593c-46b1-a5f5-4b95c223579d",
   "metadata": {},
   "outputs": [],
   "source": [
    "demographics = (income\n",
    "                .merge(bipoc, on='NAME')\n",
    "                .merge(costburdened, on='NAME')\n",
    "                .assign(\n",
    "                    NAME=lambda df_: df_.NAME.apply(lambda x: x.split(' town,')[0])\n",
    "                )\n",
    "               )\n",
    "\n",
    "# Save to file\n",
    "with open('./demographics.js', 'w') as f:\n",
    "    f.write(\n",
    "        'const demographics = ' +\\\n",
    "        str(demographics[~demographics.NAME.str.startswith('County')]\n",
    "         .set_index('NAME')\n",
    "         .to_dict('index')\n",
    "        )\n",
    "    )"
   ]
  },
  {
   "cell_type": "code",
   "execution_count": null,
   "id": "6f1f94a4-fe79-4b75-9348-20896a349588",
   "metadata": {},
   "outputs": [],
   "source": []
  }
 ],
 "metadata": {
  "kernelspec": {
   "display_name": "Python 3",
   "language": "python",
   "name": "python3"
  },
  "language_info": {
   "codemirror_mode": {
    "name": "ipython",
    "version": 3
   },
   "file_extension": ".py",
   "mimetype": "text/x-python",
   "name": "python",
   "nbconvert_exporter": "python",
   "pygments_lexer": "ipython3",
   "version": "3.7.3"
  }
 },
 "nbformat": 4,
 "nbformat_minor": 5
}
