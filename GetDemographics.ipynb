{
 "cells": [
  {
   "cell_type": "markdown",
   "id": "ea4ea1e3-0eac-4b65-9f45-040d500357c6",
   "metadata": {},
   "source": [
    "# Get Jurisdiction Demographics\n",
    "\n",
    "* About ACS: https://www.census.gov/data/developers/data-sets/acs-5year.html\n",
    "* Census API documentation: https://www.census.gov/content/dam/Census/data/developers/api-user-guide/api-guide.pdf\n",
    "* Uses [`census`](https://pypi.org/project/census/) Python library to get ACS data (median household income, % people of color, and % cost-burdened households) for relevant geographies. May need to run `pip install census` to install the library prior to running this notebook.\n",
    "* Detailed profiles: https://api.census.gov/data/2020/acs/acs5/profile/variables.html\n",
    "* Regular tables: https://api.census.gov/data/2020/acs/acs5/variables.html"
   ]
  },
  {
   "cell_type": "code",
   "execution_count": 1,
   "id": "8bfe2dbe-2445-4adc-ab2c-8c1ef867cdd9",
   "metadata": {},
   "outputs": [],
   "source": [
    "import pandas as pd\n",
    "from census import Census"
   ]
  },
  {
   "cell_type": "code",
   "execution_count": 18,
   "id": "eeb8be96-200f-4461-94e7-ff708c102b50",
   "metadata": {},
   "outputs": [],
   "source": [
    "# Initialize Census with API key\n",
    "c = Census('a62cc2eb31421c58e5f3e445fd8bf689e0bd155b')\n",
    "\n",
    "# Define geographic level\n",
    "county_geo = {\n",
    "    'for': 'county:*',\n",
    "    'in': 'state:30'\n",
    "}\n",
    "\n",
    "county_subdivision_geo = {\n",
    "    'for': 'county subdivision:*',\n",
    "    'in': 'state:30'\n",
    "}\n",
    "\n",
    "year = 2020 # ACS release year"
   ]
  },
  {
   "cell_type": "markdown",
   "id": "1ec9465f-7385-4ee7-b3a1-ea4591419451",
   "metadata": {},
   "source": [
    "### Get median household income per jurisdiction"
   ]
  },
  {
   "cell_type": "code",
   "execution_count": 50,
   "id": "19de29d3-2450-4181-bace-511d34414eff",
   "metadata": {},
   "outputs": [],
   "source": [
    "# Get data for all towns (county subdvisions) in MT (state code 30)\n",
    "# Get data for all counties and county subdivisions in MT\n",
    "county_income_raw = c.acs5.get(\n",
    "    ['NAME', 'B19013_001E'], \n",
    "    county_geo,\n",
    "    year=year\n",
    ")\n",
    "\n",
    "# Create DataFrame and rename columns\n",
    "county_income = pd.DataFrame(\n",
    "    county_income_raw\n",
    ").rename(\n",
    "    columns={\n",
    "        'B19013_001E': 'income'\n",
    "    }\n",
    ").filter(['NAME', 'income', 'county', 'county subdivision'])"
   ]
  },
  {
   "cell_type": "code",
   "execution_count": 51,
   "id": "3a515d2c",
   "metadata": {},
   "outputs": [
    {
     "data": {
      "text/html": [
       "<div>\n",
       "<style scoped>\n",
       "    .dataframe tbody tr th:only-of-type {\n",
       "        vertical-align: middle;\n",
       "    }\n",
       "\n",
       "    .dataframe tbody tr th {\n",
       "        vertical-align: top;\n",
       "    }\n",
       "\n",
       "    .dataframe thead th {\n",
       "        text-align: right;\n",
       "    }\n",
       "</style>\n",
       "<table border=\"1\" class=\"dataframe\">\n",
       "  <thead>\n",
       "    <tr style=\"text-align: right;\">\n",
       "      <th></th>\n",
       "      <th>NAME</th>\n",
       "      <th>income</th>\n",
       "      <th>county</th>\n",
       "      <th>county subdivision</th>\n",
       "    </tr>\n",
       "  </thead>\n",
       "  <tbody>\n",
       "    <tr>\n",
       "      <th>0</th>\n",
       "      <td>Big Horn County, Montana</td>\n",
       "      <td>48273.0</td>\n",
       "      <td>003</td>\n",
       "      <td>NaN</td>\n",
       "    </tr>\n",
       "    <tr>\n",
       "      <th>1</th>\n",
       "      <td>Blaine County, Montana</td>\n",
       "      <td>45361.0</td>\n",
       "      <td>005</td>\n",
       "      <td>NaN</td>\n",
       "    </tr>\n",
       "    <tr>\n",
       "      <th>2</th>\n",
       "      <td>Carbon County, Montana</td>\n",
       "      <td>61209.0</td>\n",
       "      <td>009</td>\n",
       "      <td>NaN</td>\n",
       "    </tr>\n",
       "    <tr>\n",
       "      <th>3</th>\n",
       "      <td>Carter County, Montana</td>\n",
       "      <td>42300.0</td>\n",
       "      <td>011</td>\n",
       "      <td>NaN</td>\n",
       "    </tr>\n",
       "    <tr>\n",
       "      <th>4</th>\n",
       "      <td>Chouteau County, Montana</td>\n",
       "      <td>45707.0</td>\n",
       "      <td>015</td>\n",
       "      <td>NaN</td>\n",
       "    </tr>\n",
       "  </tbody>\n",
       "</table>\n",
       "</div>"
      ],
      "text/plain": [
       "                       NAME   income county county subdivision\n",
       "0  Big Horn County, Montana  48273.0    003                NaN\n",
       "1    Blaine County, Montana  45361.0    005                NaN\n",
       "2    Carbon County, Montana  61209.0    009                NaN\n",
       "3    Carter County, Montana  42300.0    011                NaN\n",
       "4  Chouteau County, Montana  45707.0    015                NaN"
      ]
     },
     "execution_count": 51,
     "metadata": {},
     "output_type": "execute_result"
    }
   ],
   "source": [
    "# Get data for all county subdivisions in MT\n",
    "income_raw_cs = c.acs5.get(\n",
    "    ['NAME', 'B19013_001E'], \n",
    "    county_subdivision_geo, \n",
    "    year=year\n",
    ")\n",
    "\n",
    "# Create DataFrame and rename columns\n",
    "income_cs = pd.DataFrame(\n",
    "    income_raw_cs\n",
    ").rename(\n",
    "    columns={\n",
    "        'B19013_001E': 'income'\n",
    "    }\n",
    ").filter(['NAME', 'income', 'county', 'county subdivision'])\n",
    "\n",
    "# Append county subdivision data to income DataFrame\n",
    "income = pd.concat([county_income, pd.DataFrame(income_cs)])\n",
    "income.head()"
   ]
  },
  {
   "cell_type": "code",
   "execution_count": 29,
   "id": "40c785ea",
   "metadata": {},
   "outputs": [
    {
     "data": {
      "text/plain": [
       "(112, 3)"
      ]
     },
     "execution_count": 29,
     "metadata": {},
     "output_type": "execute_result"
    }
   ],
   "source": [
    "income.shape"
   ]
  },
  {
   "cell_type": "markdown",
   "id": "ae1f4a65-788d-45fa-ae17-353b85b9dd7e",
   "metadata": {},
   "source": [
    "### Calculate % BIPOC per jurisdiction"
   ]
  },
  {
   "cell_type": "code",
   "execution_count": 36,
   "id": "0e456ca7-508b-484b-9186-359ebede6129",
   "metadata": {},
   "outputs": [
    {
     "data": {
      "text/html": [
       "<div>\n",
       "<style scoped>\n",
       "    .dataframe tbody tr th:only-of-type {\n",
       "        vertical-align: middle;\n",
       "    }\n",
       "\n",
       "    .dataframe tbody tr th {\n",
       "        vertical-align: top;\n",
       "    }\n",
       "\n",
       "    .dataframe thead th {\n",
       "        text-align: right;\n",
       "    }\n",
       "</style>\n",
       "<table border=\"1\" class=\"dataframe\">\n",
       "  <thead>\n",
       "    <tr style=\"text-align: right;\">\n",
       "      <th></th>\n",
       "      <th>NAME</th>\n",
       "      <th>bipoc</th>\n",
       "      <th>county</th>\n",
       "      <th>county subdivision</th>\n",
       "    </tr>\n",
       "  </thead>\n",
       "  <tbody>\n",
       "    <tr>\n",
       "      <th>0</th>\n",
       "      <td>Northern Cheyenne Reservation CCD, Big Horn Co...</td>\n",
       "      <td>97.4</td>\n",
       "      <td>003</td>\n",
       "      <td>92436</td>\n",
       "    </tr>\n",
       "    <tr>\n",
       "      <th>1</th>\n",
       "      <td>Townsend East CCD, Broadwater County, Montana</td>\n",
       "      <td>4.8</td>\n",
       "      <td>007</td>\n",
       "      <td>93570</td>\n",
       "    </tr>\n",
       "    <tr>\n",
       "      <th>2</th>\n",
       "      <td>Joliet CCD, Carbon County, Montana</td>\n",
       "      <td>5.5</td>\n",
       "      <td>009</td>\n",
       "      <td>91827</td>\n",
       "    </tr>\n",
       "    <tr>\n",
       "      <th>3</th>\n",
       "      <td>Alzada-Boyes CCD, Carter County, Montana</td>\n",
       "      <td>0.0</td>\n",
       "      <td>011</td>\n",
       "      <td>90052</td>\n",
       "    </tr>\n",
       "    <tr>\n",
       "      <th>4</th>\n",
       "      <td>Eden-Stockett CCD, Cascade County, Montana</td>\n",
       "      <td>4.2</td>\n",
       "      <td>013</td>\n",
       "      <td>91029</td>\n",
       "    </tr>\n",
       "  </tbody>\n",
       "</table>\n",
       "</div>"
      ],
      "text/plain": [
       "                                                NAME  bipoc county  \\\n",
       "0  Northern Cheyenne Reservation CCD, Big Horn Co...   97.4    003   \n",
       "1      Townsend East CCD, Broadwater County, Montana    4.8    007   \n",
       "2                 Joliet CCD, Carbon County, Montana    5.5    009   \n",
       "3           Alzada-Boyes CCD, Carter County, Montana    0.0    011   \n",
       "4         Eden-Stockett CCD, Cascade County, Montana    4.2    013   \n",
       "\n",
       "  county subdivision  \n",
       "0              92436  \n",
       "1              93570  \n",
       "2              91827  \n",
       "3              90052  \n",
       "4              91029  "
      ]
     },
     "execution_count": 36,
     "metadata": {},
     "output_type": "execute_result"
    }
   ],
   "source": [
    "# Get data for all counties in MT\n",
    "bipoc_raw_county = c.acs5dp.get(\n",
    "    ['NAME', 'DP05_0077PE'], \n",
    "    county_geo,\n",
    "    year=year\n",
    ")\n",
    "\n",
    "# Create DataFrame and rename columns\n",
    "bipoc_county = pd.DataFrame(\n",
    "    bipoc_raw_county\n",
    ").assign(\n",
    "    bipoc=lambda df_: round(100 - df_.DP05_0077PE, 1)\n",
    ").filter(['NAME', 'bipoc', 'county', 'county subdivision'])\n",
    "\n",
    "# Get data for all county subdivisions in MT\n",
    "bipoc_raw_cs = c.acs5dp.get(\n",
    "    ['NAME', 'DP05_0077PE'], \n",
    "    county_subdivision_geo, \n",
    "    year=year\n",
    ")\n",
    "\n",
    "# Create DataFrame and rename columns\n",
    "bipoc_cs = pd.DataFrame(\n",
    "    bipoc_raw_cs\n",
    ").assign(\n",
    "    bipoc=lambda df_: round(100 - df_.DP05_0077PE, 1)\n",
    ").filter(['NAME', 'bipoc', 'county', 'county subdivision'])\n",
    "\n",
    "# Append county subdivision data to bipoc DataFrame\n",
    "bipoc = pd.concat([bipoc_cs, pd.DataFrame(bipoc_county)])\n",
    "bipoc.head()"
   ]
  },
  {
   "cell_type": "markdown",
   "id": "ba4a1b65-14b7-4b51-ab4b-89f1e9cdf4a1",
   "metadata": {},
   "source": [
    "### Calculate % cost-burdened households per jurisdiction"
   ]
  },
  {
   "cell_type": "code",
   "execution_count": 38,
   "id": "89382a90-7392-47a4-a540-db2b98a7144e",
   "metadata": {},
   "outputs": [
    {
     "data": {
      "text/html": [
       "<div>\n",
       "<style scoped>\n",
       "    .dataframe tbody tr th:only-of-type {\n",
       "        vertical-align: middle;\n",
       "    }\n",
       "\n",
       "    .dataframe tbody tr th {\n",
       "        vertical-align: top;\n",
       "    }\n",
       "\n",
       "    .dataframe thead th {\n",
       "        text-align: right;\n",
       "    }\n",
       "</style>\n",
       "<table border=\"1\" class=\"dataframe\">\n",
       "  <thead>\n",
       "    <tr style=\"text-align: right;\">\n",
       "      <th></th>\n",
       "      <th>NAME</th>\n",
       "      <th>burdened</th>\n",
       "      <th>county</th>\n",
       "      <th>county subdivision</th>\n",
       "    </tr>\n",
       "  </thead>\n",
       "  <tbody>\n",
       "    <tr>\n",
       "      <th>0</th>\n",
       "      <td>Big Horn County, Montana</td>\n",
       "      <td>20.7</td>\n",
       "      <td>003</td>\n",
       "      <td>NaN</td>\n",
       "    </tr>\n",
       "    <tr>\n",
       "      <th>1</th>\n",
       "      <td>Blaine County, Montana</td>\n",
       "      <td>26.4</td>\n",
       "      <td>005</td>\n",
       "      <td>NaN</td>\n",
       "    </tr>\n",
       "    <tr>\n",
       "      <th>2</th>\n",
       "      <td>Carbon County, Montana</td>\n",
       "      <td>24.9</td>\n",
       "      <td>009</td>\n",
       "      <td>NaN</td>\n",
       "    </tr>\n",
       "    <tr>\n",
       "      <th>3</th>\n",
       "      <td>Carter County, Montana</td>\n",
       "      <td>27.2</td>\n",
       "      <td>011</td>\n",
       "      <td>NaN</td>\n",
       "    </tr>\n",
       "    <tr>\n",
       "      <th>4</th>\n",
       "      <td>Chouteau County, Montana</td>\n",
       "      <td>17.4</td>\n",
       "      <td>015</td>\n",
       "      <td>NaN</td>\n",
       "    </tr>\n",
       "  </tbody>\n",
       "</table>\n",
       "</div>"
      ],
      "text/plain": [
       "                       NAME  burdened county county subdivision\n",
       "0  Big Horn County, Montana      20.7    003                NaN\n",
       "1    Blaine County, Montana      26.4    005                NaN\n",
       "2    Carbon County, Montana      24.9    009                NaN\n",
       "3    Carter County, Montana      27.2    011                NaN\n",
       "4  Chouteau County, Montana      17.4    015                NaN"
      ]
     },
     "execution_count": 38,
     "metadata": {},
     "output_type": "execute_result"
    }
   ],
   "source": [
    "# Get data for all counties in MT\n",
    "costburdened_raw_county = c.acs5dp.get(\n",
    "    ['NAME',\n",
    "     # owners, with mortgage:\n",
    "     'DP04_0110E', 'DP04_0114E', 'DP04_0115E',\n",
    "     # owners, without mortgage:\n",
    "     'DP04_0117E', 'DP04_0123E', 'DP04_0124E',\n",
    "     # renters:\n",
    "     'DP04_0136E', 'DP04_0141E', 'DP04_0142E'\n",
    "    ],\n",
    "    county_geo,\n",
    "    year=year\n",
    ")\n",
    "\n",
    "# Create DataFrame and rename columns\n",
    "costburdened_county = pd.DataFrame(\n",
    "    costburdened_raw_county\n",
    ").assign(\n",
    "    num=lambda df_: df_.DP04_0114E + df_.DP04_0115E \\\n",
    "        + df_.DP04_0123E + df_.DP04_0124E + df_.DP04_0141E + df_.DP04_0142E,\n",
    "    denom=lambda df_: df_.DP04_0110E + df_.DP04_0117E + df_.DP04_0136E,\n",
    "    burdened=lambda df_: round(df_.num / df_.denom*100, 1)\n",
    ").filter(['NAME', 'burdened', 'county', 'county subdivision'])\n",
    "\n",
    "# Get data for all county subdivisions in MT\n",
    "costburdened_raw_cs = c.acs5dp.get(\n",
    "    ['NAME',\n",
    "     # owners, with mortgage:\n",
    "     'DP04_0110E', 'DP04_0114E', 'DP04_0115E',\n",
    "     # owners, without mortgage:\n",
    "     'DP04_0117E', 'DP04_0123E', 'DP04_0124E',\n",
    "     # renters:\n",
    "     'DP04_0136E', 'DP04_0141E', 'DP04_0142E'\n",
    "    ], \n",
    "    county_subdivision_geo, \n",
    "    year=year\n",
    ")\n",
    "\n",
    "# Create DataFrame and rename columns\n",
    "costburdened_cs = pd.DataFrame(\n",
    "    costburdened_raw_cs\n",
    ").assign(\n",
    "    num=lambda df_: df_.DP04_0114E + df_.DP04_0115E \\\n",
    "        + df_.DP04_0123E + df_.DP04_0124E + df_.DP04_0141E + df_.DP04_0142E,\n",
    "    denom=lambda df_: df_.DP04_0110E + df_.DP04_0117E + df_.DP04_0136E,\n",
    "    burdened=lambda df_: round(df_.num / df_.denom*100, 1)\n",
    ").filter(['NAME', 'burdened', 'county', 'county subdivision'])\n",
    "\n",
    "# Append county subdivision data to costburdened DataFrame\n",
    "costburdened = pd.concat([costburdened_county, pd.DataFrame(costburdened_cs)])\n",
    "\n",
    "costburdened.head()"
   ]
  },
  {
   "cell_type": "markdown",
   "id": "1bf0b6e4-2b95-4453-b55e-7cb366b53312",
   "metadata": {},
   "source": [
    "### Combine three variables into a single dataframe, and save"
   ]
  },
  {
   "cell_type": "code",
   "execution_count": 42,
   "id": "2663902e-593c-46b1-a5f5-4b95c223579d",
   "metadata": {},
   "outputs": [],
   "source": [
    "demographics = (income\n",
    "                .merge(bipoc, on='NAME')\n",
    "                .merge(costburdened, on='NAME')\n",
    "                .assign(\n",
    "                    NAME=lambda df_: df_.NAME.apply(lambda x: x.split(' town,')[0])\n",
    "                )\n",
    "               )\n"
   ]
  },
  {
   "cell_type": "code",
   "execution_count": 52,
   "id": "adec31fa",
   "metadata": {},
   "outputs": [],
   "source": [
    "income['county'] = income['county'].astype(str).fillna('')\n",
    "income['county subdivision'] = income['county subdivision'].astype(str).fillna('')\n",
    "costburdened['county'] = costburdened['county'].astype(str).fillna('')\n",
    "costburdened['county subdivision'] = costburdened['county subdivision'].astype(str).fillna('')\n",
    "bipoc['county'] = bipoc['county'].astype(str).fillna('')\n",
    "bipoc['county subdivision'] = bipoc['county subdivision'].astype(str).fillna('')"
   ]
  },
  {
   "cell_type": "code",
   "execution_count": 53,
   "id": "bf556845",
   "metadata": {},
   "outputs": [],
   "source": [
    "# Concatenate the 'county' and 'county_subdivision' columns\n",
    "income['region'] = income.apply(lambda row: row['county'] + row['county subdivision'], axis=1)\n",
    "costburdened['region'] = costburdened.apply(lambda row: row['county'] + row['county subdivision'], axis=1)\n",
    "bipoc['region'] = bipoc.apply(lambda row: row['county'] + row['county subdivision'], axis=1)\n",
    "\n",
    "# Join the dataframes on the concatenated 'region' column\n",
    "demographics = income.merge(bipoc, on='region')\n",
    "demographics = demographics.merge(costburdened, on='region')\n",
    "\n",
    "# Drop the 'region' column\n",
    "demographics = demographics.drop(columns=['region'])"
   ]
  },
  {
   "cell_type": "code",
   "execution_count": 55,
   "id": "da58db95",
   "metadata": {},
   "outputs": [],
   "source": [
    "# Drop the specified columns\n",
    "demographics = demographics.drop(columns=['NAME_x', 'county_x', 'county subdivision_x', 'NAME_y',\n",
    "                                           'county_y', 'county subdivision_y'])\n"
   ]
  },
  {
   "cell_type": "code",
   "execution_count": 57,
   "id": "03c5ceb9",
   "metadata": {},
   "outputs": [],
   "source": [
    "# Reset the index\n",
    "demographics = demographics.reset_index()\n",
    "\n",
    "# Save to file\n",
    "with open(r'web-map\\data\\demographics.js', 'w') as f:\n",
    "    f.write(\n",
    "        'const demographics = ' +\\\n",
    "        str(demographics #[~demographics.NAME.str.startswith('County')]\n",
    "         .set_index('NAME')\n",
    "         .to_dict('index')\n",
    "        )\n",
    "    )"
   ]
  },
  {
   "cell_type": "code",
   "execution_count": null,
   "id": "6f1f94a4-fe79-4b75-9348-20896a349588",
   "metadata": {},
   "outputs": [],
   "source": []
  }
 ],
 "metadata": {
  "kernelspec": {
   "display_name": "mtAtlasEnv",
   "language": "python",
   "name": "python3"
  },
  "language_info": {
   "codemirror_mode": {
    "name": "ipython",
    "version": 3
   },
   "file_extension": ".py",
   "mimetype": "text/x-python",
   "name": "python",
   "nbconvert_exporter": "python",
   "pygments_lexer": "ipython3",
   "version": "3.10.9"
  },
  "vscode": {
   "interpreter": {
    "hash": "9e4f988564fa76bfb1b7ecd31ba998d861b57ef9720356b8ec3df795ae698aa7"
   }
  }
 },
 "nbformat": 4,
 "nbformat_minor": 5
}
